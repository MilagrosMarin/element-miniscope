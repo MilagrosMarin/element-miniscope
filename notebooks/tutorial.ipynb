{
 "cells": [
  {
   "attachments": {},
   "cell_type": "markdown",
   "metadata": {},
   "source": [
    "# DataJoint Elements for Miniscope Calcium Imaging\n",
    "\n",
    "#### Open source data pipeline for managing and analyzing functional calcium imaging data acquired with UCLA Miniscopes.\n",
    "\n",
    "Welcome to the tutorial for the DataJoint Element for Miniscope Calcium Imaging. This\n",
    "tutorial aims to provide a comprehensive understanding of the open-source data pipeline\n",
    "created using `element-miniscope`. \n",
    "\n",
    "The package is designed to seamlessly process, ingest, and track miniscope data\n",
    "including scan-level metadata, image processing, and curation results across subjects\n",
    "and sessions. By the end of this tutorial you will have a clear grasp on setting up and\n",
    "integrating `element-miniscope` into your specific research projects and your lab.\n",
    "\n",
    "\n",
    "![flowchart](https://raw.githubusercontent.com/datajoint/element-miniscope/main/images/flowchart.svg)\n",
    "\n",
    "### Prerequisites\n",
    "\n",
    "Please see the [datajoint tutorials GitHub\n",
    "repository](https://github.com/datajoint/datajoint-tutorials/tree/main) before\n",
    "proceeding.\n",
    "\n",
    "A basic understanding of the following DataJoint concepts will be beneficial to your\n",
    "understanding of this tutorial: \n",
    "1. The `Imported` and `Computed` tables types in `datajoint-python`.\n",
    "2. The functionality of the `.populate()` method. \n",
    "\n",
    "#### **Tutorial Overview**\n",
    "\n",
    "+ Setup\n",
    "+ *Activate* the DataJoint pipeline.\n",
    "+ *Insert* subject and session metadata.\n",
    "+ *Populate* scan-level (recording-level) metadata.\n",
    "+ Run image processing using\n",
    "   [`CaImAn`](https://github.com/flatironinstitute/CaImAn).\n",
    "+ Curate the results (optional).\n",
    "+ Visualize the results.\n",
    "\n",
    "### **Setup**\n",
    "\n",
    "This tutorial examines data from a UCLA miniscope recording acquired using the Miniscope\n",
    "DAQ V4. The goal is to extract fluorescence and deconvolved activity traces and use\n",
    "these traces to study neuronal calcium dynamics and neural activity during\n",
    "specific behaviors or tasks.\n",
    "\n",
    "The results of this Element can be combined with **other modalities** to create a\n",
    "complete, customizable data pipeline for your specific lab or study. For instance, you\n",
    "can combine `element-miniscope` with `element-calcium-imaging` or `element-deeplabcut`\n",
    "to characterize neural activity along with markerless pose-estimation during behavior.\n",
    "\n",
    "Let's start this tutorial by importing the packages necessary to run the notebook."
   ]
  },
  {
   "cell_type": "code",
   "execution_count": 1,
   "metadata": {},
   "outputs": [],
   "source": [
    "import datajoint as dj\n",
    "import datetime\n",
    "import matplotlib.pyplot as plt\n",
    "import numpy as np"
   ]
  },
  {
   "cell_type": "markdown",
   "metadata": {},
   "source": [
    "If the tutorial is run in Codespaces, a private, local database server is created and\n",
    "made available for you. This is where we will insert and store our processed results.\n",
    "Let's connect to the database server."
   ]
  },
  {
   "cell_type": "code",
   "execution_count": 2,
   "metadata": {},
   "outputs": [
    {
     "name": "stderr",
     "output_type": "stream",
     "text": [
      "[2023-11-29 17:31:30,218][INFO]: Connecting root@fakeservices.datajoint.io:3306\n",
      "[2023-11-29 17:31:30,228][INFO]: Connected root@fakeservices.datajoint.io:3306\n"
     ]
    },
    {
     "data": {
      "text/plain": [
       "DataJoint connection (connected) root@fakeservices.datajoint.io:3306"
      ]
     },
     "execution_count": 2,
     "metadata": {},
     "output_type": "execute_result"
    }
   ],
   "source": [
    "dj.conn()"
   ]
  },
  {
   "cell_type": "markdown",
   "metadata": {},
   "source": [
    "### **Activate the DataJoint Pipeline**\n",
    "\n",
    "This tutorial activates the `miniscope.py` module from `element-miniscope`, along with\n",
    "upstream depedencies from `element-animal` and `element-session`. Please refer to the\n",
    "[`tutorial_pipeline.py`](./tutorial_pipeline.py) for the source code. "
   ]
  },
  {
   "cell_type": "code",
   "execution_count": 3,
   "metadata": {},
   "outputs": [
    {
     "name": "stderr",
     "output_type": "stream",
     "text": [
      "[2023-11-29 17:31:33,493][WARNING]: lab.Project and related tables will be removed in a future version of Element Lab. Please use the project schema.\n"
     ]
    }
   ],
   "source": [
    "from tutorial_pipeline import lab, subject, session, miniscope"
   ]
  },
  {
   "cell_type": "markdown",
   "metadata": {},
   "source": [
    "We can represent the tables in the `miniscope` schema as well as some of the upstream\n",
    "dependencies to `session` and `subject` schemas as a diagram."
   ]
  },
  {
   "cell_type": "code",
   "execution_count": 4,
   "metadata": {},
   "outputs": [
    {
     "data": {
      "image/svg+xml": [
       "<svg xmlns=\"http://www.w3.org/2000/svg\" xmlns:xlink=\"http://www.w3.org/1999/xlink\" width=\"1520pt\" height=\"719pt\" viewBox=\"0.00 0.00 1519.50 719.00\">\n",
       "<g id=\"graph0\" class=\"graph\" transform=\"scale(1 1) rotate(0) translate(4 715)\">\n",
       "<title>%3</title>\n",
       "<polygon fill=\"white\" stroke=\"transparent\" points=\"-4,4 -4,-715 1515.5,-715 1515.5,4 -4,4\"/>\n",
       "<!-- 1 -->\n",
       "<g id=\"node1\" class=\"node\">\n",
       "<title>1</title>\n",
       "<ellipse fill=\"#ff8800\" fill-opacity=\"0.501961\" stroke=\"#ff8800\" stroke-opacity=\"0.501961\" cx=\"530.5\" cy=\"-205.5\" rx=\"2\" ry=\"2\"/>\n",
       "<text text-anchor=\"middle\" x=\"530.5\" y=\"-205.2\" font-family=\"arial\" font-size=\"1.00\" fill=\"#ff8800\" fill-opacity=\"0.501961\">1</text>\n",
       "</g>\n",
       "<!-- miniscope.Segmentation.Mask -->\n",
       "<g id=\"node7\" class=\"node\">\n",
       "<title>miniscope.Segmentation.Mask</title>\n",
       "<g id=\"a_node7\"><a xlink:title=\"→ miniscope.Segmentation\rmask                 \r------------------------------\r→ miniscope.Channel.proj(segmentation_channel=&quot;channel&quot;)\rmask_npix            \rmask_center_x=null   \rmask_center_y=null   \rmask_xpix=null       \rmask_ypix=null       \rmask_weights         \r\">\n",
       "<polygon fill=\"transparent\" stroke=\"transparent\" points=\"481,-144 330,-144 330,-125 481,-125 481,-144\"/>\n",
       "<text text-anchor=\"start\" x=\"338\" y=\"-133\" font-family=\"arial\" text-decoration=\"underline\" font-size=\"10.00\">miniscope.Segmentation.Mask</text>\n",
       "</a>\n",
       "</g>\n",
       "</g>\n",
       "<!-- 1&#45;&gt;miniscope.Segmentation.Mask -->\n",
       "<g id=\"edge1\" class=\"edge\">\n",
       "<title>1-&gt;miniscope.Segmentation.Mask</title>\n",
       "<path fill=\"none\" stroke=\"#000000\" stroke-width=\"0.75\" stroke-dasharray=\"5,2\" stroke-opacity=\"0.250980\" d=\"M529.1,-203.73C518.58,-197.92 451.72,-161.01 420.95,-144.03\"/>\n",
       "</g>\n",
       "<!-- 0 -->\n",
       "<g id=\"node2\" class=\"node\">\n",
       "<title>0</title>\n",
       "<ellipse fill=\"#ff8800\" fill-opacity=\"0.501961\" stroke=\"#ff8800\" stroke-opacity=\"0.501961\" cx=\"936.5\" cy=\"-205.5\" rx=\"2\" ry=\"2\"/>\n",
       "<text text-anchor=\"middle\" x=\"936.5\" y=\"-205.2\" font-family=\"arial\" font-size=\"1.00\" fill=\"#ff8800\" fill-opacity=\"0.501961\">0</text>\n",
       "</g>\n",
       "<!-- miniscope.MotionCorrection -->\n",
       "<g id=\"node22\" class=\"node\">\n",
       "<title>miniscope.MotionCorrection</title>\n",
       "<g id=\"a_node22\"><a xlink:title=\"→ miniscope.Curation\r------------------------------\r→ miniscope.Channel.proj(motion_correct_channel=&quot;channel&quot;)\r\">\n",
       "<ellipse fill=\"#00007f\" fill-opacity=\"0.250980\" stroke=\"#00007f\" stroke-opacity=\"0.250980\" cx=\"1163.5\" cy=\"-134.5\" rx=\"104\" ry=\"17.5\"/>\n",
       "<text text-anchor=\"middle\" x=\"1163.5\" y=\"-131.4\" font-family=\"arial\" font-size=\"12.00\" fill=\"#00007f\" fill-opacity=\"0.627451\">miniscope.MotionCorrection</text>\n",
       "</a>\n",
       "</g>\n",
       "</g>\n",
       "<!-- 0&#45;&gt;miniscope.MotionCorrection -->\n",
       "<g id=\"edge2\" class=\"edge\">\n",
       "<title>0-&gt;miniscope.MotionCorrection</title>\n",
       "<path fill=\"none\" stroke=\"#000000\" stroke-width=\"0.75\" stroke-dasharray=\"5,2\" stroke-opacity=\"0.250980\" d=\"M937.95,-204.06C951.28,-200.01 1053.44,-168.95 1115.61,-150.06\"/>\n",
       "</g>\n",
       "<!-- 2 -->\n",
       "<g id=\"node3\" class=\"node\">\n",
       "<title>2</title>\n",
       "<ellipse fill=\"#ff8800\" fill-opacity=\"0.501961\" stroke=\"#ff8800\" stroke-opacity=\"0.501961\" cx=\"674.5\" cy=\"-205.5\" rx=\"2\" ry=\"2\"/>\n",
       "<text text-anchor=\"middle\" x=\"674.5\" y=\"-205.2\" font-family=\"arial\" font-size=\"1.00\" fill=\"#ff8800\" fill-opacity=\"0.501961\">2</text>\n",
       "</g>\n",
       "<!-- miniscope.Fluorescence.Trace -->\n",
       "<g id=\"node25\" class=\"node\">\n",
       "<title>miniscope.Fluorescence.Trace</title>\n",
       "<g id=\"a_node25\"><a xlink:title=\"→ miniscope.Fluorescence\r→ miniscope.Segmentation.Mask\r→ miniscope.Channel.proj(fluorescence_channel=&quot;channel&quot;)\r------------------------------\rfluorescence         \rneuropil_fluorescence=null \r\">\n",
       "<polygon fill=\"transparent\" stroke=\"transparent\" points=\"647.5,-77.5 497.5,-77.5 497.5,-58.5 647.5,-58.5 647.5,-77.5\"/>\n",
       "<text text-anchor=\"middle\" x=\"572.5\" y=\"-65.5\" font-family=\"arial\" font-size=\"10.00\">miniscope.Fluorescence.Trace</text>\n",
       "</a>\n",
       "</g>\n",
       "</g>\n",
       "<!-- 2&#45;&gt;miniscope.Fluorescence.Trace -->\n",
       "<g id=\"edge3\" class=\"edge\">\n",
       "<title>2-&gt;miniscope.Fluorescence.Trace</title>\n",
       "<path fill=\"none\" stroke=\"#000000\" stroke-width=\"0.75\" stroke-opacity=\"0.250980\" d=\"M674.59,-203.11C675.09,-194.33 676.75,-146.14 655.5,-117 641.47,-97.77 617.22,-85.04 598.54,-77.56\"/>\n",
       "</g>\n",
       "<!-- subject.Subject -->\n",
       "<g id=\"node4\" class=\"node\">\n",
       "<title>subject.Subject</title>\n",
       "<g id=\"a_node4\"><a xlink:title=\"subject              \r------------------------------\rsubject_nickname=&quot;&quot;  \rsex                  \rsubject_birth_date   \rsubject_description=&quot;&quot; \r\">\n",
       "<polygon fill=\"#00ff00\" fill-opacity=\"0.188235\" stroke=\"#00ff00\" stroke-opacity=\"0.188235\" points=\"730.5,-711 632.5,-711 632.5,-676 730.5,-676 730.5,-711\"/>\n",
       "<text text-anchor=\"start\" x=\"640.5\" y=\"-691.4\" font-family=\"arial\" text-decoration=\"underline\" font-size=\"12.00\" fill=\"darkgreen\">subject.Subject</text>\n",
       "</a>\n",
       "</g>\n",
       "</g>\n",
       "<!-- session.Session -->\n",
       "<g id=\"node8\" class=\"node\">\n",
       "<title>session.Session</title>\n",
       "<g id=\"a_node8\"><a xlink:title=\"→ subject.Subject\rsession_datetime     \r\">\n",
       "<polygon fill=\"#00ff00\" fill-opacity=\"0.188235\" stroke=\"#00ff00\" stroke-opacity=\"0.188235\" points=\"733.5,-640 629.5,-640 629.5,-605 733.5,-605 733.5,-640\"/>\n",
       "<text text-anchor=\"start\" x=\"637.5\" y=\"-620.4\" font-family=\"arial\" text-decoration=\"underline\" font-size=\"12.00\" fill=\"darkgreen\">session.Session</text>\n",
       "</a>\n",
       "</g>\n",
       "</g>\n",
       "<!-- subject.Subject&#45;&gt;session.Session -->\n",
       "<g id=\"edge4\" class=\"edge\">\n",
       "<title>subject.Subject-&gt;session.Session</title>\n",
       "<path fill=\"none\" stroke=\"#000000\" stroke-width=\"0.75\" stroke-opacity=\"0.250980\" d=\"M681.5,-675.8C681.5,-664.95 681.5,-650.87 681.5,-640.05\"/>\n",
       "</g>\n",
       "<!-- miniscope.Recording -->\n",
       "<g id=\"node5\" class=\"node\">\n",
       "<title>miniscope.Recording</title>\n",
       "<g id=\"a_node5\"><a xlink:title=\"→ session.Session\rrecording_id         \r------------------------------\r→ lab.Device\r→ miniscope.AcquisitionSoftware\rrecording_notes=&quot;&quot;   \r\">\n",
       "<polygon fill=\"#00ff00\" fill-opacity=\"0.188235\" stroke=\"#00ff00\" stroke-opacity=\"0.188235\" points=\"819.5,-569 689.5,-569 689.5,-534 819.5,-534 819.5,-569\"/>\n",
       "<text text-anchor=\"start\" x=\"697.5\" y=\"-549.4\" font-family=\"arial\" text-decoration=\"underline\" font-size=\"12.00\" fill=\"darkgreen\">miniscope.Recording</text>\n",
       "</a>\n",
       "</g>\n",
       "</g>\n",
       "<!-- miniscope.RecordingLocation -->\n",
       "<g id=\"node11\" class=\"node\">\n",
       "<title>miniscope.RecordingLocation</title>\n",
       "<g id=\"a_node11\"><a xlink:title=\"→ miniscope.Recording\r------------------------------\r→ `neuro_reference`.`anatomical_location`\r\">\n",
       "<polygon fill=\"#00ff00\" fill-opacity=\"0.188235\" stroke=\"#00ff00\" stroke-opacity=\"0.188235\" points=\"942.5,-498 766.5,-498 766.5,-463 942.5,-463 942.5,-498\"/>\n",
       "<text text-anchor=\"middle\" x=\"854.5\" y=\"-477.4\" font-family=\"arial\" font-size=\"12.00\" fill=\"darkgreen\">miniscope.RecordingLocation</text>\n",
       "</a>\n",
       "</g>\n",
       "</g>\n",
       "<!-- miniscope.Recording&#45;&gt;miniscope.RecordingLocation -->\n",
       "<g id=\"edge5\" class=\"edge\">\n",
       "<title>miniscope.Recording-&gt;miniscope.RecordingLocation</title>\n",
       "<path fill=\"none\" stroke=\"#000000\" stroke-width=\"2\" stroke-opacity=\"0.250980\" d=\"M778.45,-533.97C794.17,-523.13 814.65,-509 830.4,-498.13\"/>\n",
       "</g>\n",
       "<!-- miniscope.RecordingInfo -->\n",
       "<g id=\"node29\" class=\"node\">\n",
       "<title>miniscope.RecordingInfo</title>\n",
       "<g id=\"a_node29\"><a xlink:title=\"→ miniscope.Recording\r------------------------------\rnchannels            \rnframes              \rpx_height=null       \rpx_width=null        \rum_height=null       \rum_width=null        \rfps                  \rgain=null            \rspatial_downsample=1 \rled_power            \rtime_stamps          \rrecording_datetime=null \rrecording_duration=null \r\">\n",
       "<ellipse fill=\"#00007f\" fill-opacity=\"0.250980\" stroke=\"#00007f\" stroke-opacity=\"0.250980\" cx=\"655.5\" cy=\"-480.5\" rx=\"93.25\" ry=\"17.5\"/>\n",
       "<text text-anchor=\"middle\" x=\"655.5\" y=\"-477.4\" font-family=\"arial\" font-size=\"12.00\" fill=\"#00007f\" fill-opacity=\"0.627451\">miniscope.RecordingInfo</text>\n",
       "</a>\n",
       "</g>\n",
       "</g>\n",
       "<!-- miniscope.Recording&#45;&gt;miniscope.RecordingInfo -->\n",
       "<g id=\"edge6\" class=\"edge\">\n",
       "<title>miniscope.Recording-&gt;miniscope.RecordingInfo</title>\n",
       "<path fill=\"none\" stroke=\"#000000\" stroke-width=\"2\" stroke-opacity=\"0.250980\" d=\"M730.79,-533.97C715,-522.97 694.35,-508.58 678.68,-497.65\"/>\n",
       "</g>\n",
       "<!-- miniscope.ProcessingMethod -->\n",
       "<g id=\"node6\" class=\"node\">\n",
       "<title>miniscope.ProcessingMethod</title>\n",
       "<g id=\"a_node6\"><a xlink:title=\"processing_method    \r------------------------------\rprocessing_method_desc=&quot;&quot; \r\">\n",
       "<polygon fill=\"#000000\" fill-opacity=\"0.125490\" stroke=\"transparent\" points=\"539,-569 394,-569 394,-534 539,-534 539,-569\"/>\n",
       "<text text-anchor=\"start\" x=\"402\" y=\"-550\" font-family=\"arial\" text-decoration=\"underline\" font-size=\"10.00\">miniscope.ProcessingMethod</text>\n",
       "</a>\n",
       "</g>\n",
       "</g>\n",
       "<!-- miniscope.ProcessingParamSet -->\n",
       "<g id=\"node13\" class=\"node\">\n",
       "<title>miniscope.ProcessingParamSet</title>\n",
       "<g id=\"a_node13\"><a xlink:title=\"paramset_id          \r------------------------------\r→ miniscope.ProcessingMethod\rparamset_desc        \rparam_set_hash       \rparams               \rUNIQUE INDEX (param_set_hash)\r\">\n",
       "<polygon fill=\"#000000\" fill-opacity=\"0.125490\" stroke=\"transparent\" points=\"544.5,-498 388.5,-498 388.5,-463 544.5,-463 544.5,-498\"/>\n",
       "<text text-anchor=\"start\" x=\"396.5\" y=\"-479\" font-family=\"arial\" text-decoration=\"underline\" font-size=\"10.00\">miniscope.ProcessingParamSet</text>\n",
       "</a>\n",
       "</g>\n",
       "</g>\n",
       "<!-- miniscope.ProcessingMethod&#45;&gt;miniscope.ProcessingParamSet -->\n",
       "<g id=\"edge7\" class=\"edge\">\n",
       "<title>miniscope.ProcessingMethod-&gt;miniscope.ProcessingParamSet</title>\n",
       "<path fill=\"none\" stroke=\"#000000\" stroke-width=\"0.75\" stroke-dasharray=\"5,2\" stroke-opacity=\"0.250980\" d=\"M466.5,-533.8C466.5,-522.95 466.5,-508.87 466.5,-498.05\"/>\n",
       "</g>\n",
       "<!-- miniscope.MaskClassification.MaskType -->\n",
       "<g id=\"node18\" class=\"node\">\n",
       "<title>miniscope.MaskClassification.MaskType</title>\n",
       "<g id=\"a_node18\"><a xlink:title=\"→ miniscope.MaskClassification\r→ miniscope.Segmentation.Mask\r------------------------------\r→ miniscope.MaskType\rconfidence=null      \r\">\n",
       "<polygon fill=\"transparent\" stroke=\"transparent\" points=\"195,-77.5 0,-77.5 0,-58.5 195,-58.5 195,-77.5\"/>\n",
       "<text text-anchor=\"middle\" x=\"97.5\" y=\"-65.5\" font-family=\"arial\" font-size=\"10.00\">miniscope.MaskClassification.MaskType</text>\n",
       "</a>\n",
       "</g>\n",
       "</g>\n",
       "<!-- miniscope.Segmentation.Mask&#45;&gt;miniscope.MaskClassification.MaskType -->\n",
       "<g id=\"edge8\" class=\"edge\">\n",
       "<title>miniscope.Segmentation.Mask-&gt;miniscope.MaskClassification.MaskType</title>\n",
       "<path fill=\"none\" stroke=\"#000000\" stroke-width=\"0.75\" stroke-opacity=\"0.250980\" d=\"M364.6,-124.93C305.69,-112.6 197.57,-89.96 138.57,-77.6\"/>\n",
       "</g>\n",
       "<!-- miniscope.Segmentation.Mask&#45;&gt;miniscope.Fluorescence.Trace -->\n",
       "<g id=\"edge9\" class=\"edge\">\n",
       "<title>miniscope.Segmentation.Mask-&gt;miniscope.Fluorescence.Trace</title>\n",
       "<path fill=\"none\" stroke=\"#000000\" stroke-width=\"0.75\" stroke-opacity=\"0.250980\" d=\"M427.68,-124.93C459.62,-112.6 518.24,-89.96 550.23,-77.6\"/>\n",
       "</g>\n",
       "<!-- session.Session&#45;&gt;miniscope.Recording -->\n",
       "<g id=\"edge10\" class=\"edge\">\n",
       "<title>session.Session-&gt;miniscope.Recording</title>\n",
       "<path fill=\"none\" stroke=\"#000000\" stroke-width=\"0.75\" stroke-opacity=\"0.250980\" d=\"M699.17,-604.8C710.65,-593.95 725.55,-579.87 736.99,-569.05\"/>\n",
       "</g>\n",
       "<!-- miniscope.ActivityExtractionMethod -->\n",
       "<g id=\"node9\" class=\"node\">\n",
       "<title>miniscope.ActivityExtractionMethod</title>\n",
       "<g id=\"a_node9\"><a xlink:title=\"extraction_method    \r\">\n",
       "<polygon fill=\"#000000\" fill-opacity=\"0.125490\" stroke=\"transparent\" points=\"876,-152 703,-152 703,-117 876,-117 876,-152\"/>\n",
       "<text text-anchor=\"start\" x=\"711\" y=\"-133\" font-family=\"arial\" text-decoration=\"underline\" font-size=\"10.00\">miniscope.ActivityExtractionMethod</text>\n",
       "</a>\n",
       "</g>\n",
       "</g>\n",
       "<!-- miniscope.Activity -->\n",
       "<g id=\"node14\" class=\"node\">\n",
       "<title>miniscope.Activity</title>\n",
       "<g id=\"a_node14\"><a xlink:title=\"→ miniscope.Fluorescence\r→ miniscope.ActivityExtractionMethod\r\">\n",
       "<ellipse fill=\"#ff0000\" fill-opacity=\"0.125490\" stroke=\"#ff0000\" stroke-opacity=\"0.125490\" cx=\"722.5\" cy=\"-68\" rx=\"13\" ry=\"13\"/>\n",
       "<text text-anchor=\"middle\" x=\"722.5\" y=\"-64.9\" font-family=\"arial\" font-size=\"12.00\" fill=\"#7f0000\" fill-opacity=\"0.627451\">miniscope.Activity</text>\n",
       "</a>\n",
       "</g>\n",
       "</g>\n",
       "<!-- miniscope.ActivityExtractionMethod&#45;&gt;miniscope.Activity -->\n",
       "<g id=\"edge11\" class=\"edge\">\n",
       "<title>miniscope.ActivityExtractionMethod-&gt;miniscope.Activity</title>\n",
       "<path fill=\"none\" stroke=\"#000000\" stroke-width=\"0.75\" stroke-opacity=\"0.250980\" d=\"M772.25,-116.89C759.22,-104.35 741.87,-87.64 731.48,-77.64\"/>\n",
       "</g>\n",
       "<!-- miniscope.RecordingInfo.File -->\n",
       "<g id=\"node10\" class=\"node\">\n",
       "<title>miniscope.RecordingInfo.File</title>\n",
       "<g id=\"a_node10\"><a xlink:title=\"→ miniscope.RecordingInfo\rfile_id              \r------------------------------\rfile_path            \r\">\n",
       "<polygon fill=\"transparent\" stroke=\"transparent\" points=\"727,-419 584,-419 584,-400 727,-400 727,-419\"/>\n",
       "<text text-anchor=\"start\" x=\"592\" y=\"-408\" font-family=\"arial\" text-decoration=\"underline\" font-size=\"10.00\">miniscope.RecordingInfo.File</text>\n",
       "</a>\n",
       "</g>\n",
       "</g>\n",
       "<!-- miniscope.Activity.Trace -->\n",
       "<g id=\"node12\" class=\"node\">\n",
       "<title>miniscope.Activity.Trace</title>\n",
       "<g id=\"a_node12\"><a xlink:title=\"→ miniscope.Activity\r→ miniscope.Fluorescence.Trace\r------------------------------\ractivity_trace       \r\">\n",
       "<polygon fill=\"transparent\" stroke=\"transparent\" points=\"784.5,-19 660.5,-19 660.5,0 784.5,0 784.5,-19\"/>\n",
       "<text text-anchor=\"middle\" x=\"722.5\" y=\"-7\" font-family=\"arial\" font-size=\"10.00\">miniscope.Activity.Trace</text>\n",
       "</a>\n",
       "</g>\n",
       "</g>\n",
       "<!-- miniscope.ProcessingTask -->\n",
       "<g id=\"node32\" class=\"node\">\n",
       "<title>miniscope.ProcessingTask</title>\n",
       "<g id=\"a_node32\"><a xlink:title=\"→ miniscope.RecordingInfo\r→ miniscope.ProcessingParamSet\r------------------------------\rprocessing_output_dir \rtask_mode=&quot;load&quot;     \r\">\n",
       "<polygon fill=\"#00ff00\" fill-opacity=\"0.188235\" stroke=\"#00ff00\" stroke-opacity=\"0.188235\" points=\"556,-427 397,-427 397,-392 556,-392 556,-427\"/>\n",
       "<text text-anchor=\"middle\" x=\"476.5\" y=\"-406.4\" font-family=\"arial\" font-size=\"12.00\" fill=\"darkgreen\">miniscope.ProcessingTask</text>\n",
       "</a>\n",
       "</g>\n",
       "</g>\n",
       "<!-- miniscope.ProcessingParamSet&#45;&gt;miniscope.ProcessingTask -->\n",
       "<g id=\"edge12\" class=\"edge\">\n",
       "<title>miniscope.ProcessingParamSet-&gt;miniscope.ProcessingTask</title>\n",
       "<path fill=\"none\" stroke=\"#000000\" stroke-width=\"0.75\" stroke-opacity=\"0.250980\" d=\"M468.92,-462.8C470.49,-451.95 472.53,-437.87 474.1,-427.05\"/>\n",
       "</g>\n",
       "<!-- miniscope.Activity&#45;&gt;miniscope.Activity.Trace -->\n",
       "<g id=\"edge13\" class=\"edge\">\n",
       "<title>miniscope.Activity-&gt;miniscope.Activity.Trace</title>\n",
       "<path fill=\"none\" stroke=\"#000000\" stroke-width=\"0.75\" stroke-opacity=\"0.250980\" d=\"M722.5,-54.74C722.5,-43.97 722.5,-28.56 722.5,-19.06\"/>\n",
       "</g>\n",
       "<!-- miniscope.Curation -->\n",
       "<g id=\"node15\" class=\"node\">\n",
       "<title>miniscope.Curation</title>\n",
       "<g id=\"a_node15\"><a xlink:title=\"→ miniscope.Processing\rcuration_id          \r------------------------------\rcuration_time        \rcuration_output_dir  \rmanual_curation      \rcuration_note=&quot;&quot;     \r\">\n",
       "<polygon fill=\"#00ff00\" fill-opacity=\"0.188235\" stroke=\"#00ff00\" stroke-opacity=\"0.188235\" points=\"536.5,-294 416.5,-294 416.5,-259 536.5,-259 536.5,-294\"/>\n",
       "<text text-anchor=\"start\" x=\"424.5\" y=\"-274.4\" font-family=\"arial\" text-decoration=\"underline\" font-size=\"12.00\" fill=\"darkgreen\">miniscope.Curation</text>\n",
       "</a>\n",
       "</g>\n",
       "</g>\n",
       "<!-- miniscope.Curation&#45;&gt;miniscope.MotionCorrection -->\n",
       "<g id=\"edge14\" class=\"edge\">\n",
       "<title>miniscope.Curation-&gt;miniscope.MotionCorrection</title>\n",
       "<path fill=\"none\" stroke=\"#000000\" stroke-width=\"2\" stroke-opacity=\"0.250980\" d=\"M503.22,-258.9C537.54,-238.46 599.59,-204.46 657.5,-188 732.26,-166.76 943.39,-149.91 1068.04,-141.45\"/>\n",
       "</g>\n",
       "<!-- miniscope.Segmentation -->\n",
       "<g id=\"node34\" class=\"node\">\n",
       "<title>miniscope.Segmentation</title>\n",
       "<g id=\"a_node34\"><a xlink:title=\"→ miniscope.Curation\r\">\n",
       "<ellipse fill=\"#ff0000\" fill-opacity=\"0.125490\" stroke=\"#ff0000\" stroke-opacity=\"0.125490\" cx=\"405.5\" cy=\"-205.5\" rx=\"13\" ry=\"13\"/>\n",
       "<text text-anchor=\"middle\" x=\"405.5\" y=\"-202.4\" font-family=\"arial\" font-size=\"12.00\" fill=\"#7f0000\" fill-opacity=\"0.627451\">miniscope.Segmentation</text>\n",
       "</a>\n",
       "</g>\n",
       "</g>\n",
       "<!-- miniscope.Curation&#45;&gt;miniscope.Segmentation -->\n",
       "<g id=\"edge15\" class=\"edge\">\n",
       "<title>miniscope.Curation-&gt;miniscope.Segmentation</title>\n",
       "<path fill=\"none\" stroke=\"#000000\" stroke-width=\"2\" stroke-opacity=\"0.250980\" d=\"M459.31,-258.8C445.2,-245.08 425.76,-226.19 414.52,-215.27\"/>\n",
       "</g>\n",
       "<!-- miniscope.AcquisitionSoftware -->\n",
       "<g id=\"node16\" class=\"node\">\n",
       "<title>miniscope.AcquisitionSoftware</title>\n",
       "<g id=\"a_node16\"><a xlink:title=\"acq_software         \r\">\n",
       "<polygon fill=\"#000000\" fill-opacity=\"0.125490\" stroke=\"transparent\" points=\"903,-640 752,-640 752,-605 903,-605 903,-640\"/>\n",
       "<text text-anchor=\"start\" x=\"760\" y=\"-621\" font-family=\"arial\" text-decoration=\"underline\" font-size=\"10.00\">miniscope.AcquisitionSoftware</text>\n",
       "</a>\n",
       "</g>\n",
       "</g>\n",
       "<!-- miniscope.AcquisitionSoftware&#45;&gt;miniscope.Recording -->\n",
       "<g id=\"edge16\" class=\"edge\">\n",
       "<title>miniscope.AcquisitionSoftware-&gt;miniscope.Recording</title>\n",
       "<path fill=\"none\" stroke=\"#000000\" stroke-width=\"0.75\" stroke-dasharray=\"5,2\" stroke-opacity=\"0.250980\" d=\"M809.83,-604.8C798.35,-593.95 783.45,-579.87 772.01,-569.05\"/>\n",
       "</g>\n",
       "<!-- miniscope.ProcessingQualityMetrics.Trace -->\n",
       "<g id=\"node17\" class=\"node\">\n",
       "<title>miniscope.ProcessingQualityMetrics.Trace</title>\n",
       "<g id=\"a_node17\"><a xlink:title=\"→ miniscope.ProcessingQualityMetrics\r→ miniscope.Fluorescence.Trace\r------------------------------\rskewness             \rvariance             \r\">\n",
       "<polygon fill=\"transparent\" stroke=\"transparent\" points=\"476,-19 273,-19 273,0 476,0 476,-19\"/>\n",
       "<text text-anchor=\"middle\" x=\"374.5\" y=\"-7\" font-family=\"arial\" font-size=\"10.00\">miniscope.ProcessingQualityMetrics.Trace</text>\n",
       "</a>\n",
       "</g>\n",
       "</g>\n",
       "<!-- miniscope.Channel -->\n",
       "<g id=\"node19\" class=\"node\">\n",
       "<title>miniscope.Channel</title>\n",
       "<g id=\"a_node19\"><a xlink:title=\"channel              \r\">\n",
       "<polygon fill=\"#000000\" fill-opacity=\"0.125490\" stroke=\"transparent\" points=\"724.5,-294 624.5,-294 624.5,-259 724.5,-259 724.5,-294\"/>\n",
       "<text text-anchor=\"start\" x=\"632.5\" y=\"-275\" font-family=\"arial\" text-decoration=\"underline\" font-size=\"10.00\">miniscope.Channel</text>\n",
       "</a>\n",
       "</g>\n",
       "</g>\n",
       "<!-- miniscope.Channel&#45;&gt;1 -->\n",
       "<g id=\"edge18\" class=\"edge\">\n",
       "<title>miniscope.Channel-&gt;1</title>\n",
       "<path fill=\"none\" stroke=\"#000000\" stroke-width=\"0.75\" stroke-dasharray=\"5,2\" stroke-opacity=\"0.250980\" d=\"M640.01,-258.97C601.07,-240.31 541.82,-211.92 531.92,-207.18\"/>\n",
       "</g>\n",
       "<!-- miniscope.Channel&#45;&gt;0 -->\n",
       "<g id=\"edge17\" class=\"edge\">\n",
       "<title>miniscope.Channel-&gt;0</title>\n",
       "<path fill=\"none\" stroke=\"#000000\" stroke-width=\"0.75\" stroke-dasharray=\"5,2\" stroke-opacity=\"0.250980\" d=\"M724.71,-262.28C796.03,-243.49 919.77,-210.91 934.96,-206.91\"/>\n",
       "</g>\n",
       "<!-- miniscope.Channel&#45;&gt;2 -->\n",
       "<g id=\"edge19\" class=\"edge\">\n",
       "<title>miniscope.Channel-&gt;2</title>\n",
       "<path fill=\"none\" stroke=\"#000000\" stroke-width=\"0.75\" stroke-opacity=\"0.250980\" d=\"M674.5,-258.8C674.5,-240.93 674.5,-214.29 674.5,-207.91\"/>\n",
       "</g>\n",
       "<!-- miniscope.MotionCorrection.NonRigidMotionCorrection -->\n",
       "<g id=\"node20\" class=\"node\">\n",
       "<title>miniscope.MotionCorrection.NonRigidMotionCorrection</title>\n",
       "<g id=\"a_node20\"><a xlink:title=\"→ miniscope.MotionCorrection\r------------------------------\routlier_frames=null  \rblock_height         \rblock_width          \rblock_count_y        \rblock_count_x        \r\">\n",
       "<polygon fill=\"transparent\" stroke=\"transparent\" points=\"1053.5,-77.5 797.5,-77.5 797.5,-58.5 1053.5,-58.5 1053.5,-77.5\"/>\n",
       "<text text-anchor=\"middle\" x=\"925.5\" y=\"-65.5\" font-family=\"arial\" font-size=\"10.00\">miniscope.MotionCorrection.NonRigidMotionCorrection</text>\n",
       "</a>\n",
       "</g>\n",
       "</g>\n",
       "<!-- miniscope.MotionCorrection.Block -->\n",
       "<g id=\"node28\" class=\"node\">\n",
       "<title>miniscope.MotionCorrection.Block</title>\n",
       "<g id=\"a_node28\"><a xlink:title=\"→ miniscope.MotionCorrection.NonRigidMotionCorrection\rblock_id             \r------------------------------\rblock_y              \rblock_x              \ry_shifts             \rx_shifts             \ry_std                \rx_std                \r\">\n",
       "<polygon fill=\"transparent\" stroke=\"transparent\" points=\"1008.5,-19 842.5,-19 842.5,0 1008.5,0 1008.5,-19\"/>\n",
       "<text text-anchor=\"start\" x=\"850.5\" y=\"-8\" font-family=\"arial\" text-decoration=\"underline\" font-size=\"10.00\">miniscope.MotionCorrection.Block</text>\n",
       "</a>\n",
       "</g>\n",
       "</g>\n",
       "<!-- miniscope.MotionCorrection.NonRigidMotionCorrection&#45;&gt;miniscope.MotionCorrection.Block -->\n",
       "<g id=\"edge20\" class=\"edge\">\n",
       "<title>miniscope.MotionCorrection.NonRigidMotionCorrection-&gt;miniscope.MotionCorrection.Block</title>\n",
       "<path fill=\"none\" stroke=\"#000000\" stroke-width=\"0.75\" stroke-opacity=\"0.250980\" d=\"M925.5,-58.17C925.5,-47.5 925.5,-29.65 925.5,-19.08\"/>\n",
       "</g>\n",
       "<!-- miniscope.MotionCorrection.Summary -->\n",
       "<g id=\"node21\" class=\"node\">\n",
       "<title>miniscope.MotionCorrection.Summary</title>\n",
       "<g id=\"a_node21\"><a xlink:title=\"→ miniscope.MotionCorrection\r------------------------------\rref_image=null       \raverage_image        \rcorrelation_image=null \rmax_proj_image=null  \r\">\n",
       "<polygon fill=\"transparent\" stroke=\"transparent\" points=\"1255,-77.5 1072,-77.5 1072,-58.5 1255,-58.5 1255,-77.5\"/>\n",
       "<text text-anchor=\"middle\" x=\"1163.5\" y=\"-65.5\" font-family=\"arial\" font-size=\"10.00\">miniscope.MotionCorrection.Summary</text>\n",
       "</a>\n",
       "</g>\n",
       "</g>\n",
       "<!-- miniscope.MotionCorrection&#45;&gt;miniscope.MotionCorrection.NonRigidMotionCorrection -->\n",
       "<g id=\"edge21\" class=\"edge\">\n",
       "<title>miniscope.MotionCorrection-&gt;miniscope.MotionCorrection.NonRigidMotionCorrection</title>\n",
       "<path fill=\"none\" stroke=\"#000000\" stroke-width=\"2\" stroke-opacity=\"0.250980\" d=\"M1111.27,-119.35C1064.2,-106.59 996.52,-88.25 957.17,-77.58\"/>\n",
       "</g>\n",
       "<!-- miniscope.MotionCorrection&#45;&gt;miniscope.MotionCorrection.Summary -->\n",
       "<g id=\"edge22\" class=\"edge\">\n",
       "<title>miniscope.MotionCorrection-&gt;miniscope.MotionCorrection.Summary</title>\n",
       "<path fill=\"none\" stroke=\"#000000\" stroke-width=\"2\" stroke-opacity=\"0.250980\" d=\"M1163.5,-116.89C1163.5,-104.35 1163.5,-87.64 1163.5,-77.64\"/>\n",
       "</g>\n",
       "<!-- miniscope.MotionCorrection.RigidMotionCorrection -->\n",
       "<g id=\"node23\" class=\"node\">\n",
       "<title>miniscope.MotionCorrection.RigidMotionCorrection</title>\n",
       "<g id=\"a_node23\"><a xlink:title=\"→ miniscope.MotionCorrection\r------------------------------\routlier_frames=null  \ry_shifts             \rx_shifts             \ry_std                \rx_std                \r\">\n",
       "<polygon fill=\"transparent\" stroke=\"transparent\" points=\"1511.5,-77.5 1273.5,-77.5 1273.5,-58.5 1511.5,-58.5 1511.5,-77.5\"/>\n",
       "<text text-anchor=\"middle\" x=\"1392.5\" y=\"-65.5\" font-family=\"arial\" font-size=\"10.00\">miniscope.MotionCorrection.RigidMotionCorrection</text>\n",
       "</a>\n",
       "</g>\n",
       "</g>\n",
       "<!-- miniscope.MotionCorrection&#45;&gt;miniscope.MotionCorrection.RigidMotionCorrection -->\n",
       "<g id=\"edge23\" class=\"edge\">\n",
       "<title>miniscope.MotionCorrection-&gt;miniscope.MotionCorrection.RigidMotionCorrection</title>\n",
       "<path fill=\"none\" stroke=\"#000000\" stroke-width=\"2\" stroke-opacity=\"0.250980\" d=\"M1214.32,-119.19C1259.65,-106.42 1324.5,-88.15 1362.18,-77.54\"/>\n",
       "</g>\n",
       "<!-- miniscope.MaskType -->\n",
       "<g id=\"node24\" class=\"node\">\n",
       "<title>miniscope.MaskType</title>\n",
       "<g id=\"a_node24\"><a xlink:title=\"mask_type            \r\">\n",
       "<polygon fill=\"#000000\" fill-opacity=\"0.125490\" stroke=\"transparent\" points=\"312,-152 203,-152 203,-117 312,-117 312,-152\"/>\n",
       "<text text-anchor=\"start\" x=\"211\" y=\"-133\" font-family=\"arial\" text-decoration=\"underline\" font-size=\"10.00\">miniscope.MaskType</text>\n",
       "</a>\n",
       "</g>\n",
       "</g>\n",
       "<!-- miniscope.MaskType&#45;&gt;miniscope.MaskClassification.MaskType -->\n",
       "<g id=\"edge24\" class=\"edge\">\n",
       "<title>miniscope.MaskType-&gt;miniscope.MaskClassification.MaskType</title>\n",
       "<path fill=\"none\" stroke=\"#000000\" stroke-width=\"0.75\" stroke-dasharray=\"5,2\" stroke-opacity=\"0.250980\" d=\"M216.3,-116.89C185.19,-104.35 143.75,-87.64 118.93,-77.64\"/>\n",
       "</g>\n",
       "<!-- miniscope.Fluorescence.Trace&#45;&gt;miniscope.Activity.Trace -->\n",
       "<g id=\"edge25\" class=\"edge\">\n",
       "<title>miniscope.Fluorescence.Trace-&gt;miniscope.Activity.Trace</title>\n",
       "<path fill=\"none\" stroke=\"#000000\" stroke-width=\"0.75\" stroke-opacity=\"0.250980\" d=\"M595.28,-58.42C623.48,-47.8 671.21,-29.82 699.5,-19.16\"/>\n",
       "</g>\n",
       "<!-- miniscope.Fluorescence.Trace&#45;&gt;miniscope.ProcessingQualityMetrics.Trace -->\n",
       "<g id=\"edge26\" class=\"edge\">\n",
       "<title>miniscope.Fluorescence.Trace-&gt;miniscope.ProcessingQualityMetrics.Trace</title>\n",
       "<path fill=\"none\" stroke=\"#000000\" stroke-width=\"2\" stroke-opacity=\"0.250980\" d=\"M542.43,-58.42C505.1,-47.77 441.83,-29.71 404.53,-19.07\"/>\n",
       "</g>\n",
       "<!-- miniscope.ProcessingQualityMetrics -->\n",
       "<g id=\"node26\" class=\"node\">\n",
       "<title>miniscope.ProcessingQualityMetrics</title>\n",
       "<g id=\"a_node26\"><a xlink:title=\"→ miniscope.Fluorescence\r\">\n",
       "<ellipse fill=\"#ff0000\" fill-opacity=\"0.125490\" stroke=\"#ff0000\" stroke-opacity=\"0.125490\" cx=\"374.5\" cy=\"-68\" rx=\"13\" ry=\"13\"/>\n",
       "<text text-anchor=\"middle\" x=\"374.5\" y=\"-64.9\" font-family=\"arial\" font-size=\"12.00\" fill=\"#7f0000\" fill-opacity=\"0.627451\">miniscope.ProcessingQualityMetrics</text>\n",
       "</a>\n",
       "</g>\n",
       "</g>\n",
       "<!-- miniscope.ProcessingQualityMetrics&#45;&gt;miniscope.ProcessingQualityMetrics.Trace -->\n",
       "<g id=\"edge27\" class=\"edge\">\n",
       "<title>miniscope.ProcessingQualityMetrics-&gt;miniscope.ProcessingQualityMetrics.Trace</title>\n",
       "<path fill=\"none\" stroke=\"#000000\" stroke-width=\"0.75\" stroke-opacity=\"0.250980\" d=\"M374.5,-54.74C374.5,-43.97 374.5,-28.56 374.5,-19.06\"/>\n",
       "</g>\n",
       "<!-- miniscope.MaskClassification -->\n",
       "<g id=\"node27\" class=\"node\">\n",
       "<title>miniscope.MaskClassification</title>\n",
       "<g id=\"a_node27\"><a xlink:title=\"→ miniscope.Segmentation\r→ miniscope.MaskClassificationMethod\r\">\n",
       "<ellipse fill=\"#ff0000\" fill-opacity=\"0.125490\" stroke=\"#ff0000\" stroke-opacity=\"0.125490\" cx=\"97.5\" cy=\"-134.5\" rx=\"13\" ry=\"13\"/>\n",
       "<text text-anchor=\"middle\" x=\"97.5\" y=\"-131.4\" font-family=\"arial\" font-size=\"12.00\" fill=\"#7f0000\" fill-opacity=\"0.627451\">miniscope.MaskClassification</text>\n",
       "</a>\n",
       "</g>\n",
       "</g>\n",
       "<!-- miniscope.MaskClassification&#45;&gt;miniscope.MaskClassification.MaskType -->\n",
       "<g id=\"edge28\" class=\"edge\">\n",
       "<title>miniscope.MaskClassification-&gt;miniscope.MaskClassification.MaskType</title>\n",
       "<path fill=\"none\" stroke=\"#000000\" stroke-width=\"0.75\" stroke-opacity=\"0.250980\" d=\"M97.5,-121.37C97.5,-108.67 97.5,-89.04 97.5,-77.77\"/>\n",
       "</g>\n",
       "<!-- miniscope.RecordingInfo&#45;&gt;miniscope.RecordingInfo.File -->\n",
       "<g id=\"edge29\" class=\"edge\">\n",
       "<title>miniscope.RecordingInfo-&gt;miniscope.RecordingInfo.File</title>\n",
       "<path fill=\"none\" stroke=\"#000000\" stroke-width=\"0.75\" stroke-opacity=\"0.250980\" d=\"M655.5,-462.8C655.5,-449.08 655.5,-430.19 655.5,-419.27\"/>\n",
       "</g>\n",
       "<!-- miniscope.RecordingInfo&#45;&gt;miniscope.ProcessingTask -->\n",
       "<g id=\"edge30\" class=\"edge\">\n",
       "<title>miniscope.RecordingInfo-&gt;miniscope.ProcessingTask</title>\n",
       "<path fill=\"none\" stroke=\"#000000\" stroke-width=\"0.75\" stroke-opacity=\"0.250980\" d=\"M616.66,-464.53C587.97,-453.47 548.93,-438.42 519.34,-427.01\"/>\n",
       "</g>\n",
       "<!-- miniscope.MaskClassificationMethod -->\n",
       "<g id=\"node30\" class=\"node\">\n",
       "<title>miniscope.MaskClassificationMethod</title>\n",
       "<g id=\"a_node30\"><a xlink:title=\"mask_classification_method \r\">\n",
       "<polygon fill=\"#000000\" fill-opacity=\"0.125490\" stroke=\"transparent\" points=\"187,-223 8,-223 8,-188 187,-188 187,-223\"/>\n",
       "<text text-anchor=\"start\" x=\"16\" y=\"-204\" font-family=\"arial\" text-decoration=\"underline\" font-size=\"10.00\">miniscope.MaskClassificationMethod</text>\n",
       "</a>\n",
       "</g>\n",
       "</g>\n",
       "<!-- miniscope.MaskClassificationMethod&#45;&gt;miniscope.MaskClassification -->\n",
       "<g id=\"edge31\" class=\"edge\">\n",
       "<title>miniscope.MaskClassificationMethod-&gt;miniscope.MaskClassification</title>\n",
       "<path fill=\"none\" stroke=\"#000000\" stroke-width=\"0.75\" stroke-opacity=\"0.250980\" d=\"M97.5,-187.8C97.5,-175.35 97.5,-158.66 97.5,-147.51\"/>\n",
       "</g>\n",
       "<!-- miniscope.Fluorescence -->\n",
       "<g id=\"node31\" class=\"node\">\n",
       "<title>miniscope.Fluorescence</title>\n",
       "<g id=\"a_node31\"><a xlink:title=\"→ miniscope.Segmentation\r\">\n",
       "<ellipse fill=\"#ff0000\" fill-opacity=\"0.125490\" stroke=\"#ff0000\" stroke-opacity=\"0.125490\" cx=\"572.5\" cy=\"-134.5\" rx=\"13\" ry=\"13\"/>\n",
       "<text text-anchor=\"middle\" x=\"572.5\" y=\"-131.4\" font-family=\"arial\" font-size=\"12.00\" fill=\"#7f0000\" fill-opacity=\"0.627451\">miniscope.Fluorescence</text>\n",
       "</a>\n",
       "</g>\n",
       "</g>\n",
       "<!-- miniscope.Fluorescence&#45;&gt;miniscope.Activity -->\n",
       "<g id=\"edge32\" class=\"edge\">\n",
       "<title>miniscope.Fluorescence-&gt;miniscope.Activity</title>\n",
       "<path fill=\"none\" stroke=\"#000000\" stroke-width=\"0.75\" stroke-opacity=\"0.250980\" d=\"M584.27,-128.44C612.31,-116.38 682.8,-86.07 710.78,-74.04\"/>\n",
       "</g>\n",
       "<!-- miniscope.Fluorescence&#45;&gt;miniscope.Fluorescence.Trace -->\n",
       "<g id=\"edge33\" class=\"edge\">\n",
       "<title>miniscope.Fluorescence-&gt;miniscope.Fluorescence.Trace</title>\n",
       "<path fill=\"none\" stroke=\"#000000\" stroke-width=\"0.75\" stroke-opacity=\"0.250980\" d=\"M572.5,-121.37C572.5,-108.67 572.5,-89.04 572.5,-77.77\"/>\n",
       "</g>\n",
       "<!-- miniscope.Fluorescence&#45;&gt;miniscope.ProcessingQualityMetrics -->\n",
       "<g id=\"edge34\" class=\"edge\">\n",
       "<title>miniscope.Fluorescence-&gt;miniscope.ProcessingQualityMetrics</title>\n",
       "<path fill=\"none\" stroke=\"#000000\" stroke-width=\"2\" stroke-opacity=\"0.250980\" d=\"M560.41,-129.56C525.06,-118.05 422.15,-84.52 386.68,-72.97\"/>\n",
       "</g>\n",
       "<!-- miniscope.Processing -->\n",
       "<g id=\"node33\" class=\"node\">\n",
       "<title>miniscope.Processing</title>\n",
       "<g id=\"a_node33\"><a xlink:title=\"→ miniscope.ProcessingTask\r------------------------------\rprocessing_time      \rpackage_version=&quot;&quot;   \r\">\n",
       "<ellipse fill=\"#ff0000\" fill-opacity=\"0.125490\" stroke=\"#ff0000\" stroke-opacity=\"0.125490\" cx=\"476.5\" cy=\"-343\" rx=\"13\" ry=\"13\"/>\n",
       "<text text-anchor=\"middle\" x=\"476.5\" y=\"-339.9\" font-family=\"arial\" font-size=\"12.00\" fill=\"#7f0000\" fill-opacity=\"0.627451\">miniscope.Processing</text>\n",
       "</a>\n",
       "</g>\n",
       "</g>\n",
       "<!-- miniscope.ProcessingTask&#45;&gt;miniscope.Processing -->\n",
       "<g id=\"edge35\" class=\"edge\">\n",
       "<title>miniscope.ProcessingTask-&gt;miniscope.Processing</title>\n",
       "<path fill=\"none\" stroke=\"#000000\" stroke-width=\"2\" stroke-opacity=\"0.250980\" d=\"M476.5,-391.89C476.5,-380.69 476.5,-366.17 476.5,-356.07\"/>\n",
       "</g>\n",
       "<!-- miniscope.Processing&#45;&gt;miniscope.Curation -->\n",
       "<g id=\"edge36\" class=\"edge\">\n",
       "<title>miniscope.Processing-&gt;miniscope.Curation</title>\n",
       "<path fill=\"none\" stroke=\"#000000\" stroke-width=\"0.75\" stroke-opacity=\"0.250980\" d=\"M476.5,-329.87C476.5,-319.8 476.5,-305.37 476.5,-294.2\"/>\n",
       "</g>\n",
       "<!-- miniscope.Segmentation&#45;&gt;miniscope.Segmentation.Mask -->\n",
       "<g id=\"edge37\" class=\"edge\">\n",
       "<title>miniscope.Segmentation-&gt;miniscope.Segmentation.Mask</title>\n",
       "<path fill=\"none\" stroke=\"#000000\" stroke-width=\"0.75\" stroke-opacity=\"0.250980\" d=\"M405.5,-192.48C405.5,-178.74 405.5,-156.56 405.5,-144.32\"/>\n",
       "</g>\n",
       "<!-- miniscope.Segmentation&#45;&gt;miniscope.MaskClassification -->\n",
       "<g id=\"edge38\" class=\"edge\">\n",
       "<title>miniscope.Segmentation-&gt;miniscope.MaskClassification</title>\n",
       "<path fill=\"none\" stroke=\"#000000\" stroke-width=\"0.75\" stroke-opacity=\"0.250980\" d=\"M393.04,-201.71C343.41,-190.59 160.02,-149.51 110.11,-138.33\"/>\n",
       "</g>\n",
       "<!-- miniscope.Segmentation&#45;&gt;miniscope.Fluorescence -->\n",
       "<g id=\"edge39\" class=\"edge\">\n",
       "<title>miniscope.Segmentation-&gt;miniscope.Fluorescence</title>\n",
       "<path fill=\"none\" stroke=\"#000000\" stroke-width=\"2\" stroke-opacity=\"0.250980\" d=\"M417.24,-199.65C447.83,-187.01 529.72,-153.17 560.55,-140.44\"/>\n",
       "</g>\n",
       "</g>\n",
       "</svg>"
      ],
      "text/plain": [
       "<datajoint.diagram.Diagram at 0x7f866ce6d760>"
      ]
     },
     "execution_count": 4,
     "metadata": {},
     "output_type": "execute_result"
    }
   ],
   "source": [
    "(dj.Diagram(subject.Subject) + dj.Diagram(session.Session) + dj.Diagram(miniscope))"
   ]
  },
  {
   "cell_type": "markdown",
   "metadata": {},
   "source": [
    "As evident from the diagram, this data pipeline encompasses tables associated with\n",
    "recording-level (scan-level) metadata, image processing results, and optional curation\n",
    "of image processing. A few tables such as `subject.Subject` or `session.Session` are\n",
    "inherited from `element-animal` and `element-session`, respectively, and while important\n",
    "for a complete pipeline, fall outside the scope of the `element-miniscope` tutorial and\n",
    "will therefore, not be explored extensively here. The primary focus of this tutorial is\n",
    "on the `miniscope` schema.\n",
    "\n",
    "### **Insert subject and session metadata**\n",
    "\n",
    "Let's start with the first table in the schema diagram (i.e. `subject.Subject` table).\n",
    "\n",
    "To know what data to insert into the table, we can view its dependencies and attributes\n",
    "using the `.describe` and `.heading` methods."
   ]
  },
  {
   "cell_type": "code",
   "execution_count": 5,
   "metadata": {},
   "outputs": [
    {
     "data": {
      "text/html": [
       "\n",
       "    \n",
       "    <style type=\"text/css\">\n",
       "        .Table{\n",
       "            border-collapse:collapse;\n",
       "        }\n",
       "        .Table th{\n",
       "            background: #A0A0A0; color: #ffffff; padding:4px; border:#f0e0e0 1px solid;\n",
       "            font-weight: normal; font-family: monospace; font-size: 100%;\n",
       "        }\n",
       "        .Table td{\n",
       "            padding:4px; border:#f0e0e0 1px solid; font-size:100%;\n",
       "        }\n",
       "        .Table tr:nth-child(odd){\n",
       "            background: #ffffff;\n",
       "            color: #000000;\n",
       "        }\n",
       "        .Table tr:nth-child(even){\n",
       "            background: #f3f1ff;\n",
       "            color: #000000;\n",
       "        }\n",
       "        /* Tooltip container */\n",
       "        .djtooltip {\n",
       "        }\n",
       "        /* Tooltip text */\n",
       "        .djtooltip .djtooltiptext {\n",
       "            visibility: hidden;\n",
       "            width: 120px;\n",
       "            background-color: black;\n",
       "            color: #fff;\n",
       "            text-align: center;\n",
       "            padding: 5px 0;\n",
       "            border-radius: 6px;\n",
       "            /* Position the tooltip text - see examples below! */\n",
       "            position: absolute;\n",
       "            z-index: 1;\n",
       "        }\n",
       "        #primary {\n",
       "            font-weight: bold;\n",
       "            color: black;\n",
       "        }\n",
       "        #nonprimary {\n",
       "            font-weight: normal;\n",
       "            color: white;\n",
       "        }\n",
       "\n",
       "        /* Show the tooltip text when you mouse over the tooltip container */\n",
       "        .djtooltip:hover .djtooltiptext {\n",
       "            visibility: visible;\n",
       "        }\n",
       "    </style>\n",
       "    \n",
       "    <b></b>\n",
       "        <div style=\"max-height:1000px;max-width:1500px;overflow:auto;\">\n",
       "        <table border=\"1\" class=\"Table\">\n",
       "            <thead> <tr style=\"text-align: right;\"> <th> <div class=\"djtooltip\">\n",
       "                            <p id=\"primary\">subject</p>\n",
       "                            <span class=\"djtooltiptext\"></span>\n",
       "                        </div></th><th><div class=\"djtooltip\">\n",
       "                            <p id=\"nonprimary\">subject_nickname</p>\n",
       "                            <span class=\"djtooltiptext\"></span>\n",
       "                        </div></th><th><div class=\"djtooltip\">\n",
       "                            <p id=\"nonprimary\">sex</p>\n",
       "                            <span class=\"djtooltiptext\"></span>\n",
       "                        </div></th><th><div class=\"djtooltip\">\n",
       "                            <p id=\"nonprimary\">subject_birth_date</p>\n",
       "                            <span class=\"djtooltiptext\"></span>\n",
       "                        </div></th><th><div class=\"djtooltip\">\n",
       "                            <p id=\"nonprimary\">subject_description</p>\n",
       "                            <span class=\"djtooltiptext\"></span>\n",
       "                        </div> </th> </tr> </thead>\n",
       "            <tbody> <tr>  </tr> </tbody>\n",
       "        </table>\n",
       "        \n",
       "        <p>Total: 0</p></div>\n",
       "        "
      ],
      "text/plain": [
       "*subject    subject_nickna sex     subject_birth_ subject_descri\n",
       "+---------+ +------------+ +-----+ +------------+ +------------+\n",
       "\n",
       " (Total: 0)"
      ]
     },
     "execution_count": 5,
     "metadata": {},
     "output_type": "execute_result"
    }
   ],
   "source": [
    "subject.Subject()"
   ]
  },
  {
   "cell_type": "code",
   "execution_count": 6,
   "metadata": {},
   "outputs": [
    {
     "name": "stdout",
     "output_type": "stream",
     "text": [
      "subject              : varchar(8)                   \n",
      "---\n",
      "subject_nickname=\"\"  : varchar(64)                  \n",
      "sex                  : enum('M','F','U')            \n",
      "subject_birth_date   : date                         \n",
      "subject_description=\"\" : varchar(1024)                \n",
      "\n"
     ]
    }
   ],
   "source": [
    "print(subject.Subject.describe())"
   ]
  },
  {
   "cell_type": "code",
   "execution_count": 7,
   "metadata": {},
   "outputs": [
    {
     "data": {
      "text/plain": [
       "# \n",
       "subject              : varchar(8)                   # \n",
       "---\n",
       "subject_nickname=\"\"  : varchar(64)                  # \n",
       "sex                  : enum('M','F','U')            # \n",
       "subject_birth_date   : date                         # \n",
       "subject_description=\"\" : varchar(1024)                # "
      ]
     },
     "execution_count": 7,
     "metadata": {},
     "output_type": "execute_result"
    }
   ],
   "source": [
    "subject.Subject.heading"
   ]
  },
  {
   "attachments": {},
   "cell_type": "markdown",
   "metadata": {},
   "source": [
    "The cells above show all attributes of the subject table.\n",
    "We will insert data into the\n",
    "`subject.Subject` table. "
   ]
  },
  {
   "cell_type": "code",
   "execution_count": 8,
   "metadata": {},
   "outputs": [
    {
     "data": {
      "text/html": [
       "\n",
       "    \n",
       "    <style type=\"text/css\">\n",
       "        .Table{\n",
       "            border-collapse:collapse;\n",
       "        }\n",
       "        .Table th{\n",
       "            background: #A0A0A0; color: #ffffff; padding:4px; border:#f0e0e0 1px solid;\n",
       "            font-weight: normal; font-family: monospace; font-size: 100%;\n",
       "        }\n",
       "        .Table td{\n",
       "            padding:4px; border:#f0e0e0 1px solid; font-size:100%;\n",
       "        }\n",
       "        .Table tr:nth-child(odd){\n",
       "            background: #ffffff;\n",
       "            color: #000000;\n",
       "        }\n",
       "        .Table tr:nth-child(even){\n",
       "            background: #f3f1ff;\n",
       "            color: #000000;\n",
       "        }\n",
       "        /* Tooltip container */\n",
       "        .djtooltip {\n",
       "        }\n",
       "        /* Tooltip text */\n",
       "        .djtooltip .djtooltiptext {\n",
       "            visibility: hidden;\n",
       "            width: 120px;\n",
       "            background-color: black;\n",
       "            color: #fff;\n",
       "            text-align: center;\n",
       "            padding: 5px 0;\n",
       "            border-radius: 6px;\n",
       "            /* Position the tooltip text - see examples below! */\n",
       "            position: absolute;\n",
       "            z-index: 1;\n",
       "        }\n",
       "        #primary {\n",
       "            font-weight: bold;\n",
       "            color: black;\n",
       "        }\n",
       "        #nonprimary {\n",
       "            font-weight: normal;\n",
       "            color: white;\n",
       "        }\n",
       "\n",
       "        /* Show the tooltip text when you mouse over the tooltip container */\n",
       "        .djtooltip:hover .djtooltiptext {\n",
       "            visibility: visible;\n",
       "        }\n",
       "    </style>\n",
       "    \n",
       "    <b></b>\n",
       "        <div style=\"max-height:1000px;max-width:1500px;overflow:auto;\">\n",
       "        <table border=\"1\" class=\"Table\">\n",
       "            <thead> <tr style=\"text-align: right;\"> <th> <div class=\"djtooltip\">\n",
       "                            <p id=\"primary\">subject</p>\n",
       "                            <span class=\"djtooltiptext\"></span>\n",
       "                        </div></th><th><div class=\"djtooltip\">\n",
       "                            <p id=\"nonprimary\">subject_nickname</p>\n",
       "                            <span class=\"djtooltiptext\"></span>\n",
       "                        </div></th><th><div class=\"djtooltip\">\n",
       "                            <p id=\"nonprimary\">sex</p>\n",
       "                            <span class=\"djtooltiptext\"></span>\n",
       "                        </div></th><th><div class=\"djtooltip\">\n",
       "                            <p id=\"nonprimary\">subject_birth_date</p>\n",
       "                            <span class=\"djtooltiptext\"></span>\n",
       "                        </div></th><th><div class=\"djtooltip\">\n",
       "                            <p id=\"nonprimary\">subject_description</p>\n",
       "                            <span class=\"djtooltiptext\"></span>\n",
       "                        </div> </th> </tr> </thead>\n",
       "            <tbody> <tr> <td>subject1</td>\n",
       "<td></td>\n",
       "<td>U</td>\n",
       "<td>2023-01-01</td>\n",
       "<td></td> </tr> </tbody>\n",
       "        </table>\n",
       "        \n",
       "        <p>Total: 1</p></div>\n",
       "        "
      ],
      "text/plain": [
       "*subject     subject_nickna sex     subject_birth_ subject_descri\n",
       "+----------+ +------------+ +-----+ +------------+ +------------+\n",
       "subject1                    U       2023-01-01                   \n",
       " (Total: 1)"
      ]
     },
     "execution_count": 8,
     "metadata": {},
     "output_type": "execute_result"
    }
   ],
   "source": [
    "subject.Subject.insert1(\n",
    "    dict(subject=\"subject1\", subject_birth_date=\"2023-01-01\", sex=\"U\")\n",
    ")\n",
    "subject.Subject()"
   ]
  },
  {
   "cell_type": "markdown",
   "metadata": {},
   "source": [
    "Let's repeat the steps above for the `Session` table and see how the output varies between\n",
    "`.describe` and `.heading`."
   ]
  },
  {
   "cell_type": "code",
   "execution_count": 9,
   "metadata": {},
   "outputs": [
    {
     "name": "stdout",
     "output_type": "stream",
     "text": [
      "-> subject.Subject\n",
      "session_datetime     : datetime                     \n",
      "\n"
     ]
    }
   ],
   "source": [
    "print(session.Session.describe())"
   ]
  },
  {
   "cell_type": "code",
   "execution_count": 10,
   "metadata": {},
   "outputs": [
    {
     "data": {
      "text/plain": [
       "# \n",
       "subject              : varchar(8)                   # \n",
       "session_datetime     : datetime                     # "
      ]
     },
     "execution_count": 10,
     "metadata": {},
     "output_type": "execute_result"
    }
   ],
   "source": [
    "session.Session.heading"
   ]
  },
  {
   "attachments": {},
   "cell_type": "markdown",
   "metadata": {},
   "source": [
    "Notice that `describe`, displays the table's structure and highlights its dependencies, such as its reliance on the `Subject` table. These dependencies represent foreign key references, linking data across tables.\n",
    "\n",
    "On the other hand, `heading` provides an exhaustive list of the table's attributes. This\n",
    "list includes both the attributes declared in this table and any inherited from upstream\n",
    "tables.\n",
    "\n",
    "With this understanding, let's move on to insert a session associated with our subject.\n",
    "\n",
    "We will insert into the `session.Session` table by passing a dictionary to the `insert1` method."
   ]
  },
  {
   "cell_type": "code",
   "execution_count": 11,
   "metadata": {},
   "outputs": [],
   "source": [
    "session_key = dict(subject=\"subject1\", session_datetime=\"2023-01-01 00:00:00\")"
   ]
  },
  {
   "cell_type": "code",
   "execution_count": 12,
   "metadata": {},
   "outputs": [
    {
     "data": {
      "text/html": [
       "\n",
       "    \n",
       "    <style type=\"text/css\">\n",
       "        .Table{\n",
       "            border-collapse:collapse;\n",
       "        }\n",
       "        .Table th{\n",
       "            background: #A0A0A0; color: #ffffff; padding:4px; border:#f0e0e0 1px solid;\n",
       "            font-weight: normal; font-family: monospace; font-size: 100%;\n",
       "        }\n",
       "        .Table td{\n",
       "            padding:4px; border:#f0e0e0 1px solid; font-size:100%;\n",
       "        }\n",
       "        .Table tr:nth-child(odd){\n",
       "            background: #ffffff;\n",
       "            color: #000000;\n",
       "        }\n",
       "        .Table tr:nth-child(even){\n",
       "            background: #f3f1ff;\n",
       "            color: #000000;\n",
       "        }\n",
       "        /* Tooltip container */\n",
       "        .djtooltip {\n",
       "        }\n",
       "        /* Tooltip text */\n",
       "        .djtooltip .djtooltiptext {\n",
       "            visibility: hidden;\n",
       "            width: 120px;\n",
       "            background-color: black;\n",
       "            color: #fff;\n",
       "            text-align: center;\n",
       "            padding: 5px 0;\n",
       "            border-radius: 6px;\n",
       "            /* Position the tooltip text - see examples below! */\n",
       "            position: absolute;\n",
       "            z-index: 1;\n",
       "        }\n",
       "        #primary {\n",
       "            font-weight: bold;\n",
       "            color: black;\n",
       "        }\n",
       "        #nonprimary {\n",
       "            font-weight: normal;\n",
       "            color: white;\n",
       "        }\n",
       "\n",
       "        /* Show the tooltip text when you mouse over the tooltip container */\n",
       "        .djtooltip:hover .djtooltiptext {\n",
       "            visibility: visible;\n",
       "        }\n",
       "    </style>\n",
       "    \n",
       "    <b></b>\n",
       "        <div style=\"max-height:1000px;max-width:1500px;overflow:auto;\">\n",
       "        <table border=\"1\" class=\"Table\">\n",
       "            <thead> <tr style=\"text-align: right;\"> <th> <div class=\"djtooltip\">\n",
       "                            <p id=\"primary\">subject</p>\n",
       "                            <span class=\"djtooltiptext\"></span>\n",
       "                        </div></th><th><div class=\"djtooltip\">\n",
       "                            <p id=\"primary\">session_datetime</p>\n",
       "                            <span class=\"djtooltiptext\"></span>\n",
       "                        </div> </th> </tr> </thead>\n",
       "            <tbody> <tr> <td>subject1</td>\n",
       "<td>2023-01-01 00:00:00</td> </tr> </tbody>\n",
       "        </table>\n",
       "        \n",
       "        <p>Total: 1</p></div>\n",
       "        "
      ],
      "text/plain": [
       "*subject     *session_datet\n",
       "+----------+ +------------+\n",
       "subject1     2023-01-01 00:\n",
       " (Total: 1)"
      ]
     },
     "execution_count": 12,
     "metadata": {},
     "output_type": "execute_result"
    }
   ],
   "source": [
    "session.Session.insert1(session_key)\n",
    "session.Session()"
   ]
  },
  {
   "attachments": {},
   "cell_type": "markdown",
   "metadata": {},
   "source": [
    "Every experimental session produces a set of data files. The `SessionDirectory` table's\n",
    "purpose is to locate these files. It references a directory path relative to a root\n",
    "directory, defined in `dj.config[\"custom\"]`. More\n",
    "information about `dj.config` is provided in the [documentation](https://datajoint.com/docs/elements/user-guide/)."
   ]
  },
  {
   "cell_type": "code",
   "execution_count": 13,
   "metadata": {},
   "outputs": [
    {
     "data": {
      "text/html": [
       "\n",
       "    \n",
       "    <style type=\"text/css\">\n",
       "        .Table{\n",
       "            border-collapse:collapse;\n",
       "        }\n",
       "        .Table th{\n",
       "            background: #A0A0A0; color: #ffffff; padding:4px; border:#f0e0e0 1px solid;\n",
       "            font-weight: normal; font-family: monospace; font-size: 100%;\n",
       "        }\n",
       "        .Table td{\n",
       "            padding:4px; border:#f0e0e0 1px solid; font-size:100%;\n",
       "        }\n",
       "        .Table tr:nth-child(odd){\n",
       "            background: #ffffff;\n",
       "            color: #000000;\n",
       "        }\n",
       "        .Table tr:nth-child(even){\n",
       "            background: #f3f1ff;\n",
       "            color: #000000;\n",
       "        }\n",
       "        /* Tooltip container */\n",
       "        .djtooltip {\n",
       "        }\n",
       "        /* Tooltip text */\n",
       "        .djtooltip .djtooltiptext {\n",
       "            visibility: hidden;\n",
       "            width: 120px;\n",
       "            background-color: black;\n",
       "            color: #fff;\n",
       "            text-align: center;\n",
       "            padding: 5px 0;\n",
       "            border-radius: 6px;\n",
       "            /* Position the tooltip text - see examples below! */\n",
       "            position: absolute;\n",
       "            z-index: 1;\n",
       "        }\n",
       "        #primary {\n",
       "            font-weight: bold;\n",
       "            color: black;\n",
       "        }\n",
       "        #nonprimary {\n",
       "            font-weight: normal;\n",
       "            color: white;\n",
       "        }\n",
       "\n",
       "        /* Show the tooltip text when you mouse over the tooltip container */\n",
       "        .djtooltip:hover .djtooltiptext {\n",
       "            visibility: visible;\n",
       "        }\n",
       "    </style>\n",
       "    \n",
       "    <b></b>\n",
       "        <div style=\"max-height:1000px;max-width:1500px;overflow:auto;\">\n",
       "        <table border=\"1\" class=\"Table\">\n",
       "            <thead> <tr style=\"text-align: right;\"> <th> <div class=\"djtooltip\">\n",
       "                            <p id=\"primary\">subject</p>\n",
       "                            <span class=\"djtooltiptext\"></span>\n",
       "                        </div></th><th><div class=\"djtooltip\">\n",
       "                            <p id=\"primary\">session_datetime</p>\n",
       "                            <span class=\"djtooltiptext\"></span>\n",
       "                        </div></th><th><div class=\"djtooltip\">\n",
       "                            <p id=\"nonprimary\">session_dir</p>\n",
       "                            <span class=\"djtooltiptext\">Path to the data directory for a session</span>\n",
       "                        </div> </th> </tr> </thead>\n",
       "            <tbody> <tr> <td>subject1</td>\n",
       "<td>2023-01-01 00:00:00</td>\n",
       "<td>session1</td> </tr> </tbody>\n",
       "        </table>\n",
       "        \n",
       "        <p>Total: 1</p></div>\n",
       "        "
      ],
      "text/plain": [
       "*subject     *session_datet session_dir   \n",
       "+----------+ +------------+ +------------+\n",
       "subject1     2023-01-01 00: session1      \n",
       " (Total: 1)"
      ]
     },
     "execution_count": 13,
     "metadata": {},
     "output_type": "execute_result"
    }
   ],
   "source": [
    "session.SessionDirectory.insert1(dict(**session_key, session_dir=\"session1\"))\n",
    "session.SessionDirectory()"
   ]
  },
  {
   "attachments": {},
   "cell_type": "markdown",
   "metadata": {},
   "source": [
    "As the workflow diagram indicates, the first table in the `miniscope` schema is the `miniscope.Recording` table."
   ]
  },
  {
   "cell_type": "code",
   "execution_count": 14,
   "metadata": {},
   "outputs": [
    {
     "name": "stdout",
     "output_type": "stream",
     "text": [
      "-> session.Session\n",
      "recording_id         : int                          \n",
      "---\n",
      "-> lab.Device\n",
      "-> miniscope.AcquisitionSoftware\n",
      "recording_notes=\"\"   : varchar(4095)                # free-notes\n",
      "\n"
     ]
    }
   ],
   "source": [
    "print(miniscope.Recording.describe())"
   ]
  },
  {
   "cell_type": "code",
   "execution_count": 15,
   "metadata": {},
   "outputs": [
    {
     "data": {
      "text/plain": [
       "# \n",
       "subject              : varchar(8)                   # \n",
       "session_datetime     : datetime                     # \n",
       "recording_id         : int                          # \n",
       "---\n",
       "device               : varchar(32)                  # \n",
       "acq_software         : varchar(24)                  # \n",
       "recording_notes=\"\"   : varchar(4095)                # free-notes"
      ]
     },
     "execution_count": 15,
     "metadata": {},
     "output_type": "execute_result"
    }
   ],
   "source": [
    "miniscope.Recording.heading"
   ]
  },
  {
   "attachments": {},
   "cell_type": "markdown",
   "metadata": {},
   "source": [
    "As you can see from the `describe()` method, this lab contains a dependency on the `Device` table within the `lab` schema. Let's quickly insert a miniscope device before inserting into `miniscope.Recording`. "
   ]
  },
  {
   "cell_type": "code",
   "execution_count": 16,
   "metadata": {},
   "outputs": [
    {
     "data": {
      "text/plain": [
       "# \n",
       "device               : varchar(32)                  # \n",
       "---\n",
       "modality             : varchar(64)                  # \n",
       "description=\"\"       : varchar(256)                 # "
      ]
     },
     "execution_count": 16,
     "metadata": {},
     "output_type": "execute_result"
    }
   ],
   "source": [
    "lab.Device.heading"
   ]
  },
  {
   "cell_type": "code",
   "execution_count": 17,
   "metadata": {},
   "outputs": [],
   "source": [
    "lab.Device.insert1(dict(device=\"miniscope A\", modality=\"miniscope\"))"
   ]
  },
  {
   "cell_type": "code",
   "execution_count": 18,
   "metadata": {},
   "outputs": [],
   "source": [
    "miniscope.Recording.insert1(\n",
    "    dict(\n",
    "        **session_key,\n",
    "        recording_id=1,\n",
    "        device=\"miniscope A\",\n",
    "        acq_software=\"Miniscope-DAQ-V4\",\n",
    "    )\n",
    ")"
   ]
  },
  {
   "cell_type": "markdown",
   "metadata": {},
   "source": [
    "### **Populate scan-level (recording-level) metadata**\n",
    "\n",
    "In the upcoming cells, we'll make use of the `populate()` method to fill the `miniscope.RecordingInfo` table and its part table."
   ]
  },
  {
   "cell_type": "code",
   "execution_count": 19,
   "metadata": {},
   "outputs": [
    {
     "data": {
      "text/html": [
       "\n",
       "    \n",
       "    <style type=\"text/css\">\n",
       "        .Table{\n",
       "            border-collapse:collapse;\n",
       "        }\n",
       "        .Table th{\n",
       "            background: #A0A0A0; color: #ffffff; padding:4px; border:#f0e0e0 1px solid;\n",
       "            font-weight: normal; font-family: monospace; font-size: 100%;\n",
       "        }\n",
       "        .Table td{\n",
       "            padding:4px; border:#f0e0e0 1px solid; font-size:100%;\n",
       "        }\n",
       "        .Table tr:nth-child(odd){\n",
       "            background: #ffffff;\n",
       "            color: #000000;\n",
       "        }\n",
       "        .Table tr:nth-child(even){\n",
       "            background: #f3f1ff;\n",
       "            color: #000000;\n",
       "        }\n",
       "        /* Tooltip container */\n",
       "        .djtooltip {\n",
       "        }\n",
       "        /* Tooltip text */\n",
       "        .djtooltip .djtooltiptext {\n",
       "            visibility: hidden;\n",
       "            width: 120px;\n",
       "            background-color: black;\n",
       "            color: #fff;\n",
       "            text-align: center;\n",
       "            padding: 5px 0;\n",
       "            border-radius: 6px;\n",
       "            /* Position the tooltip text - see examples below! */\n",
       "            position: absolute;\n",
       "            z-index: 1;\n",
       "        }\n",
       "        #primary {\n",
       "            font-weight: bold;\n",
       "            color: black;\n",
       "        }\n",
       "        #nonprimary {\n",
       "            font-weight: normal;\n",
       "            color: white;\n",
       "        }\n",
       "\n",
       "        /* Show the tooltip text when you mouse over the tooltip container */\n",
       "        .djtooltip:hover .djtooltiptext {\n",
       "            visibility: visible;\n",
       "        }\n",
       "    </style>\n",
       "    \n",
       "    <b>Store metadata about recording</b>\n",
       "        <div style=\"max-height:1000px;max-width:1500px;overflow:auto;\">\n",
       "        <table border=\"1\" class=\"Table\">\n",
       "            <thead> <tr style=\"text-align: right;\"> <th> <div class=\"djtooltip\">\n",
       "                            <p id=\"primary\">subject</p>\n",
       "                            <span class=\"djtooltiptext\"></span>\n",
       "                        </div></th><th><div class=\"djtooltip\">\n",
       "                            <p id=\"primary\">session_datetime</p>\n",
       "                            <span class=\"djtooltiptext\"></span>\n",
       "                        </div></th><th><div class=\"djtooltip\">\n",
       "                            <p id=\"primary\">recording_id</p>\n",
       "                            <span class=\"djtooltiptext\"></span>\n",
       "                        </div></th><th><div class=\"djtooltip\">\n",
       "                            <p id=\"nonprimary\">nchannels</p>\n",
       "                            <span class=\"djtooltiptext\">number of channels</span>\n",
       "                        </div></th><th><div class=\"djtooltip\">\n",
       "                            <p id=\"nonprimary\">nframes</p>\n",
       "                            <span class=\"djtooltiptext\">number of recorded frames</span>\n",
       "                        </div></th><th><div class=\"djtooltip\">\n",
       "                            <p id=\"nonprimary\">px_height</p>\n",
       "                            <span class=\"djtooltiptext\">height in pixels</span>\n",
       "                        </div></th><th><div class=\"djtooltip\">\n",
       "                            <p id=\"nonprimary\">px_width</p>\n",
       "                            <span class=\"djtooltiptext\">width in pixels</span>\n",
       "                        </div></th><th><div class=\"djtooltip\">\n",
       "                            <p id=\"nonprimary\">um_height</p>\n",
       "                            <span class=\"djtooltiptext\">height in microns</span>\n",
       "                        </div></th><th><div class=\"djtooltip\">\n",
       "                            <p id=\"nonprimary\">um_width</p>\n",
       "                            <span class=\"djtooltiptext\">width in microns</span>\n",
       "                        </div></th><th><div class=\"djtooltip\">\n",
       "                            <p id=\"nonprimary\">fps</p>\n",
       "                            <span class=\"djtooltiptext\">(Hz) frames per second</span>\n",
       "                        </div></th><th><div class=\"djtooltip\">\n",
       "                            <p id=\"nonprimary\">gain</p>\n",
       "                            <span class=\"djtooltiptext\">recording gain</span>\n",
       "                        </div></th><th><div class=\"djtooltip\">\n",
       "                            <p id=\"nonprimary\">spatial_downsample</p>\n",
       "                            <span class=\"djtooltiptext\">e.g. 1, 2, 4, 8. 1 for no downsampling</span>\n",
       "                        </div></th><th><div class=\"djtooltip\">\n",
       "                            <p id=\"nonprimary\">led_power</p>\n",
       "                            <span class=\"djtooltiptext\">LED power used in the given recording</span>\n",
       "                        </div></th><th><div class=\"djtooltip\">\n",
       "                            <p id=\"nonprimary\">time_stamps</p>\n",
       "                            <span class=\"djtooltiptext\">time stamps of each frame</span>\n",
       "                        </div></th><th><div class=\"djtooltip\">\n",
       "                            <p id=\"nonprimary\">recording_datetime</p>\n",
       "                            <span class=\"djtooltiptext\">datetime of the recording</span>\n",
       "                        </div></th><th><div class=\"djtooltip\">\n",
       "                            <p id=\"nonprimary\">recording_duration</p>\n",
       "                            <span class=\"djtooltiptext\">(seconds) duration of the recording</span>\n",
       "                        </div> </th> </tr> </thead>\n",
       "            <tbody> <tr>  </tr> </tbody>\n",
       "        </table>\n",
       "        \n",
       "        <p>Total: 0</p></div>\n",
       "        "
      ],
      "text/plain": [
       "*subject    *session_datet *recording_id  nchannels     nframes     px_height     px_width     um_height     um_width     fps     gain     spatial_downsa led_power     time_stamp recording_date recording_dura\n",
       "+---------+ +------------+ +------------+ +-----------+ +---------+ +-----------+ +----------+ +-----------+ +----------+ +-----+ +------+ +------------+ +-----------+ +--------+ +------------+ +------------+\n",
       "\n",
       " (Total: 0)"
      ]
     },
     "execution_count": 19,
     "metadata": {},
     "output_type": "execute_result"
    }
   ],
   "source": [
    "miniscope.RecordingInfo()"
   ]
  },
  {
   "cell_type": "code",
   "execution_count": 20,
   "metadata": {},
   "outputs": [
    {
     "data": {
      "text/html": [
       "\n",
       "    \n",
       "    <style type=\"text/css\">\n",
       "        .Table{\n",
       "            border-collapse:collapse;\n",
       "        }\n",
       "        .Table th{\n",
       "            background: #A0A0A0; color: #ffffff; padding:4px; border:#f0e0e0 1px solid;\n",
       "            font-weight: normal; font-family: monospace; font-size: 100%;\n",
       "        }\n",
       "        .Table td{\n",
       "            padding:4px; border:#f0e0e0 1px solid; font-size:100%;\n",
       "        }\n",
       "        .Table tr:nth-child(odd){\n",
       "            background: #ffffff;\n",
       "            color: #000000;\n",
       "        }\n",
       "        .Table tr:nth-child(even){\n",
       "            background: #f3f1ff;\n",
       "            color: #000000;\n",
       "        }\n",
       "        /* Tooltip container */\n",
       "        .djtooltip {\n",
       "        }\n",
       "        /* Tooltip text */\n",
       "        .djtooltip .djtooltiptext {\n",
       "            visibility: hidden;\n",
       "            width: 120px;\n",
       "            background-color: black;\n",
       "            color: #fff;\n",
       "            text-align: center;\n",
       "            padding: 5px 0;\n",
       "            border-radius: 6px;\n",
       "            /* Position the tooltip text - see examples below! */\n",
       "            position: absolute;\n",
       "            z-index: 1;\n",
       "        }\n",
       "        #primary {\n",
       "            font-weight: bold;\n",
       "            color: black;\n",
       "        }\n",
       "        #nonprimary {\n",
       "            font-weight: normal;\n",
       "            color: white;\n",
       "        }\n",
       "\n",
       "        /* Show the tooltip text when you mouse over the tooltip container */\n",
       "        .djtooltip:hover .djtooltiptext {\n",
       "            visibility: visible;\n",
       "        }\n",
       "    </style>\n",
       "    \n",
       "    <b></b>\n",
       "        <div style=\"max-height:1000px;max-width:1500px;overflow:auto;\">\n",
       "        <table border=\"1\" class=\"Table\">\n",
       "            <thead> <tr style=\"text-align: right;\"> <th> <div class=\"djtooltip\">\n",
       "                            <p id=\"primary\">subject</p>\n",
       "                            <span class=\"djtooltiptext\"></span>\n",
       "                        </div></th><th><div class=\"djtooltip\">\n",
       "                            <p id=\"primary\">session_datetime</p>\n",
       "                            <span class=\"djtooltiptext\"></span>\n",
       "                        </div></th><th><div class=\"djtooltip\">\n",
       "                            <p id=\"primary\">recording_id</p>\n",
       "                            <span class=\"djtooltiptext\"></span>\n",
       "                        </div></th><th><div class=\"djtooltip\">\n",
       "                            <p id=\"primary\">file_id</p>\n",
       "                            <span class=\"djtooltiptext\"></span>\n",
       "                        </div></th><th><div class=\"djtooltip\">\n",
       "                            <p id=\"nonprimary\">file_path</p>\n",
       "                            <span class=\"djtooltiptext\">relative to root data directory</span>\n",
       "                        </div> </th> </tr> </thead>\n",
       "            <tbody> <tr>  </tr> </tbody>\n",
       "        </table>\n",
       "        \n",
       "        <p>Total: 0</p></div>\n",
       "        "
      ],
      "text/plain": [
       "*subject    *session_datet *recording_id  *file_id    file_path    \n",
       "+---------+ +------------+ +------------+ +---------+ +-----------+\n",
       "\n",
       " (Total: 0)"
      ]
     },
     "execution_count": 20,
     "metadata": {},
     "output_type": "execute_result"
    }
   ],
   "source": [
    "miniscope.RecordingInfo.File()"
   ]
  },
  {
   "cell_type": "code",
   "execution_count": 21,
   "metadata": {},
   "outputs": [
    {
     "name": "stderr",
     "output_type": "stream",
     "text": [
      "RecordingInfo: 100%|██████████| 1/1 [00:02<00:00,  2.36s/it]\n"
     ]
    }
   ],
   "source": [
    "miniscope.RecordingInfo.populate(session_key, display_progress=True)"
   ]
  },
  {
   "attachments": {},
   "cell_type": "markdown",
   "metadata": {},
   "source": [
    "Let's view the information was entered into each of these tables:"
   ]
  },
  {
   "cell_type": "code",
   "execution_count": 22,
   "metadata": {},
   "outputs": [
    {
     "data": {
      "text/html": [
       "\n",
       "    \n",
       "    <style type=\"text/css\">\n",
       "        .Table{\n",
       "            border-collapse:collapse;\n",
       "        }\n",
       "        .Table th{\n",
       "            background: #A0A0A0; color: #ffffff; padding:4px; border:#f0e0e0 1px solid;\n",
       "            font-weight: normal; font-family: monospace; font-size: 100%;\n",
       "        }\n",
       "        .Table td{\n",
       "            padding:4px; border:#f0e0e0 1px solid; font-size:100%;\n",
       "        }\n",
       "        .Table tr:nth-child(odd){\n",
       "            background: #ffffff;\n",
       "            color: #000000;\n",
       "        }\n",
       "        .Table tr:nth-child(even){\n",
       "            background: #f3f1ff;\n",
       "            color: #000000;\n",
       "        }\n",
       "        /* Tooltip container */\n",
       "        .djtooltip {\n",
       "        }\n",
       "        /* Tooltip text */\n",
       "        .djtooltip .djtooltiptext {\n",
       "            visibility: hidden;\n",
       "            width: 120px;\n",
       "            background-color: black;\n",
       "            color: #fff;\n",
       "            text-align: center;\n",
       "            padding: 5px 0;\n",
       "            border-radius: 6px;\n",
       "            /* Position the tooltip text - see examples below! */\n",
       "            position: absolute;\n",
       "            z-index: 1;\n",
       "        }\n",
       "        #primary {\n",
       "            font-weight: bold;\n",
       "            color: black;\n",
       "        }\n",
       "        #nonprimary {\n",
       "            font-weight: normal;\n",
       "            color: white;\n",
       "        }\n",
       "\n",
       "        /* Show the tooltip text when you mouse over the tooltip container */\n",
       "        .djtooltip:hover .djtooltiptext {\n",
       "            visibility: visible;\n",
       "        }\n",
       "    </style>\n",
       "    \n",
       "    <b>Store metadata about recording</b>\n",
       "        <div style=\"max-height:1000px;max-width:1500px;overflow:auto;\">\n",
       "        <table border=\"1\" class=\"Table\">\n",
       "            <thead> <tr style=\"text-align: right;\"> <th> <div class=\"djtooltip\">\n",
       "                            <p id=\"primary\">subject</p>\n",
       "                            <span class=\"djtooltiptext\"></span>\n",
       "                        </div></th><th><div class=\"djtooltip\">\n",
       "                            <p id=\"primary\">session_datetime</p>\n",
       "                            <span class=\"djtooltiptext\"></span>\n",
       "                        </div></th><th><div class=\"djtooltip\">\n",
       "                            <p id=\"primary\">recording_id</p>\n",
       "                            <span class=\"djtooltiptext\"></span>\n",
       "                        </div></th><th><div class=\"djtooltip\">\n",
       "                            <p id=\"nonprimary\">nchannels</p>\n",
       "                            <span class=\"djtooltiptext\">number of channels</span>\n",
       "                        </div></th><th><div class=\"djtooltip\">\n",
       "                            <p id=\"nonprimary\">nframes</p>\n",
       "                            <span class=\"djtooltiptext\">number of recorded frames</span>\n",
       "                        </div></th><th><div class=\"djtooltip\">\n",
       "                            <p id=\"nonprimary\">px_height</p>\n",
       "                            <span class=\"djtooltiptext\">height in pixels</span>\n",
       "                        </div></th><th><div class=\"djtooltip\">\n",
       "                            <p id=\"nonprimary\">px_width</p>\n",
       "                            <span class=\"djtooltiptext\">width in pixels</span>\n",
       "                        </div></th><th><div class=\"djtooltip\">\n",
       "                            <p id=\"nonprimary\">um_height</p>\n",
       "                            <span class=\"djtooltiptext\">height in microns</span>\n",
       "                        </div></th><th><div class=\"djtooltip\">\n",
       "                            <p id=\"nonprimary\">um_width</p>\n",
       "                            <span class=\"djtooltiptext\">width in microns</span>\n",
       "                        </div></th><th><div class=\"djtooltip\">\n",
       "                            <p id=\"nonprimary\">fps</p>\n",
       "                            <span class=\"djtooltiptext\">(Hz) frames per second</span>\n",
       "                        </div></th><th><div class=\"djtooltip\">\n",
       "                            <p id=\"nonprimary\">gain</p>\n",
       "                            <span class=\"djtooltiptext\">recording gain</span>\n",
       "                        </div></th><th><div class=\"djtooltip\">\n",
       "                            <p id=\"nonprimary\">spatial_downsample</p>\n",
       "                            <span class=\"djtooltiptext\">e.g. 1, 2, 4, 8. 1 for no downsampling</span>\n",
       "                        </div></th><th><div class=\"djtooltip\">\n",
       "                            <p id=\"nonprimary\">led_power</p>\n",
       "                            <span class=\"djtooltiptext\">LED power used in the given recording</span>\n",
       "                        </div></th><th><div class=\"djtooltip\">\n",
       "                            <p id=\"nonprimary\">time_stamps</p>\n",
       "                            <span class=\"djtooltiptext\">time stamps of each frame</span>\n",
       "                        </div></th><th><div class=\"djtooltip\">\n",
       "                            <p id=\"nonprimary\">recording_datetime</p>\n",
       "                            <span class=\"djtooltiptext\">datetime of the recording</span>\n",
       "                        </div></th><th><div class=\"djtooltip\">\n",
       "                            <p id=\"nonprimary\">recording_duration</p>\n",
       "                            <span class=\"djtooltiptext\">(seconds) duration of the recording</span>\n",
       "                        </div> </th> </tr> </thead>\n",
       "            <tbody> <tr> <td>subject1</td>\n",
       "<td>2023-01-01 00:00:00</td>\n",
       "<td>1</td>\n",
       "<td>1</td>\n",
       "<td>111770</td>\n",
       "<td>600</td>\n",
       "<td>600</td>\n",
       "<td>nan</td>\n",
       "<td>nan</td>\n",
       "<td>20.0</td>\n",
       "<td>2.0</td>\n",
       "<td>1</td>\n",
       "<td>5.0</td>\n",
       "<td>=BLOB=</td>\n",
       "<td>None</td>\n",
       "<td>5588.5</td> </tr> </tbody>\n",
       "        </table>\n",
       "        \n",
       "        <p>Total: 1</p></div>\n",
       "        "
      ],
      "text/plain": [
       "*subject     *session_datet *recording_id  nchannels     nframes     px_height     px_width     um_height     um_width     fps      gain     spatial_downsa led_power     time_stamp recording_date recording_dura\n",
       "+----------+ +------------+ +------------+ +-----------+ +---------+ +-----------+ +----------+ +-----------+ +----------+ +------+ +------+ +------------+ +-----------+ +--------+ +------------+ +------------+\n",
       "subject1     2023-01-01 00: 1              1             111770      600           600          nan           nan          20.0     2.0      1              5.0           =BLOB=     None           5588.5        \n",
       " (Total: 1)"
      ]
     },
     "execution_count": 22,
     "metadata": {},
     "output_type": "execute_result"
    }
   ],
   "source": [
    "miniscope.RecordingInfo()"
   ]
  },
  {
   "cell_type": "code",
   "execution_count": 23,
   "metadata": {},
   "outputs": [
    {
     "data": {
      "text/html": [
       "\n",
       "    \n",
       "    <style type=\"text/css\">\n",
       "        .Table{\n",
       "            border-collapse:collapse;\n",
       "        }\n",
       "        .Table th{\n",
       "            background: #A0A0A0; color: #ffffff; padding:4px; border:#f0e0e0 1px solid;\n",
       "            font-weight: normal; font-family: monospace; font-size: 100%;\n",
       "        }\n",
       "        .Table td{\n",
       "            padding:4px; border:#f0e0e0 1px solid; font-size:100%;\n",
       "        }\n",
       "        .Table tr:nth-child(odd){\n",
       "            background: #ffffff;\n",
       "            color: #000000;\n",
       "        }\n",
       "        .Table tr:nth-child(even){\n",
       "            background: #f3f1ff;\n",
       "            color: #000000;\n",
       "        }\n",
       "        /* Tooltip container */\n",
       "        .djtooltip {\n",
       "        }\n",
       "        /* Tooltip text */\n",
       "        .djtooltip .djtooltiptext {\n",
       "            visibility: hidden;\n",
       "            width: 120px;\n",
       "            background-color: black;\n",
       "            color: #fff;\n",
       "            text-align: center;\n",
       "            padding: 5px 0;\n",
       "            border-radius: 6px;\n",
       "            /* Position the tooltip text - see examples below! */\n",
       "            position: absolute;\n",
       "            z-index: 1;\n",
       "        }\n",
       "        #primary {\n",
       "            font-weight: bold;\n",
       "            color: black;\n",
       "        }\n",
       "        #nonprimary {\n",
       "            font-weight: normal;\n",
       "            color: white;\n",
       "        }\n",
       "\n",
       "        /* Show the tooltip text when you mouse over the tooltip container */\n",
       "        .djtooltip:hover .djtooltiptext {\n",
       "            visibility: visible;\n",
       "        }\n",
       "    </style>\n",
       "    \n",
       "    <b></b>\n",
       "        <div style=\"max-height:1000px;max-width:1500px;overflow:auto;\">\n",
       "        <table border=\"1\" class=\"Table\">\n",
       "            <thead> <tr style=\"text-align: right;\"> <th> <div class=\"djtooltip\">\n",
       "                            <p id=\"primary\">subject</p>\n",
       "                            <span class=\"djtooltiptext\"></span>\n",
       "                        </div></th><th><div class=\"djtooltip\">\n",
       "                            <p id=\"primary\">session_datetime</p>\n",
       "                            <span class=\"djtooltiptext\"></span>\n",
       "                        </div></th><th><div class=\"djtooltip\">\n",
       "                            <p id=\"primary\">recording_id</p>\n",
       "                            <span class=\"djtooltiptext\"></span>\n",
       "                        </div></th><th><div class=\"djtooltip\">\n",
       "                            <p id=\"primary\">file_id</p>\n",
       "                            <span class=\"djtooltiptext\"></span>\n",
       "                        </div></th><th><div class=\"djtooltip\">\n",
       "                            <p id=\"nonprimary\">file_path</p>\n",
       "                            <span class=\"djtooltiptext\">relative to root data directory</span>\n",
       "                        </div> </th> </tr> </thead>\n",
       "            <tbody> <tr> <td>subject1</td>\n",
       "<td>2023-01-01 00:00:00</td>\n",
       "<td>1</td>\n",
       "<td>0</td>\n",
       "<td>session1/0.avi</td> </tr> </tbody>\n",
       "        </table>\n",
       "        \n",
       "        <p>Total: 1</p></div>\n",
       "        "
      ],
      "text/plain": [
       "*subject     *session_datet *recording_id  *file_id    file_path     \n",
       "+----------+ +------------+ +------------+ +---------+ +------------+\n",
       "subject1     2023-01-01 00: 1              0           session1/0.avi\n",
       " (Total: 1)"
      ]
     },
     "execution_count": 23,
     "metadata": {},
     "output_type": "execute_result"
    }
   ],
   "source": [
    "miniscope.RecordingInfo.File()"
   ]
  },
  {
   "attachments": {},
   "cell_type": "markdown",
   "metadata": {},
   "source": [
    "### **Run Image Processing using CaImAn**\n",
    "\n",
    "We're almost ready to perform image processing with `CaImAn`. An important step before\n",
    "processing is managing the parameters which will be used in that step. To do so, we will\n",
    "define the `CaImAn` parameters in a dictionary and insert them into a DataJoint table\n",
    "`ProcessingParamSet`. This table keeps track of all combinations of your image\n",
    "processing parameters. You can choose which parameters are used during processing in a\n",
    "later step.\n",
    "\n",
    "Let's view the attributes and insert data into `miniscope.ProcessingParamSet`."
   ]
  },
  {
   "cell_type": "code",
   "execution_count": 24,
   "metadata": {},
   "outputs": [
    {
     "data": {
      "text/plain": [
       "# Parameter set used for processing of miniscope data\n",
       "paramset_id          : smallint                     # \n",
       "---\n",
       "processing_method    : varchar(16)                  # \n",
       "paramset_desc        : varchar(128)                 # \n",
       "param_set_hash       : uuid                         # \n",
       "params               : longblob                     # dictionary of all applicable parameters"
      ]
     },
     "execution_count": 24,
     "metadata": {},
     "output_type": "execute_result"
    }
   ],
   "source": [
    "miniscope.ProcessingParamSet.heading"
   ]
  },
  {
   "cell_type": "code",
   "execution_count": 25,
   "metadata": {},
   "outputs": [],
   "source": [
    "params = dict(\n",
    "    decay_time=0.4,\n",
    "    pw_rigid=False,\n",
    "    max_shifts=(5, 5),\n",
    "    gSig_filt=(3, 3),\n",
    "    strides=(48, 48),\n",
    "    overlaps=(24, 24),\n",
    "    max_deviation_rigid=3,\n",
    "    border_nan=\"copy\",\n",
    "    method_init=\"corr_pnr\",\n",
    "    K=None,\n",
    "    gSig=(3, 3),\n",
    "    gSiz=(13, 13),\n",
    "    merge_thr=0.7,\n",
    "    p=1,\n",
    "    tsub=2,\n",
    "    ssub=1,\n",
    "    rf=40,\n",
    "    stride=20,\n",
    "    only_init=True,\n",
    "    nb=0,\n",
    "    nb_patch=0,\n",
    "    method_deconvolution=\"oasis\",\n",
    "    low_rank_background=None,\n",
    "    update_background_components=True,\n",
    "    min_corr=0.8,\n",
    "    min_pnr=10,\n",
    "    normalize_init=False,\n",
    "    center_psf=True,\n",
    "    ssub_B=2,\n",
    "    ring_size_factor=1.4,\n",
    "    del_duplicates=True,\n",
    "    border_pix=0,\n",
    "    min_SNR=3,\n",
    "    rval_thr=0.85,\n",
    "    use_cnn=False,\n",
    ")\n",
    "\n",
    "\n",
    "miniscope.ProcessingParamSet.insert_new_params(\n",
    "    processing_method=\"caiman\",\n",
    "    paramset_id=0,\n",
    "    paramset_desc=\"Miniscope analysis with CaImAn using default parameters\",\n",
    "    params=params,\n",
    ")"
   ]
  },
  {
   "attachments": {},
   "cell_type": "markdown",
   "metadata": {},
   "source": [
    "Now that we've inserted kilosort parameters into the `ProcessingParamSet` table,\n",
    "we're almost ready to run image processing. DataJoint uses a `ProcessingTask` table to\n",
    "manage which `Recording` and `ProcessingParamSet` should be used during processing. \n",
    "\n",
    "This table is important for defining several important aspects of\n",
    "downstream processing. Let's view the attributes to get a better understanding. "
   ]
  },
  {
   "cell_type": "code",
   "execution_count": 26,
   "metadata": {},
   "outputs": [
    {
     "data": {
      "text/plain": [
       "# Manual table marking a processing task to be triggered or manually processed\n",
       "subject              : varchar(8)                   # \n",
       "session_datetime     : datetime                     # \n",
       "recording_id         : int                          # \n",
       "paramset_id          : smallint                     # \n",
       "---\n",
       "processing_output_dir : varchar(255)                 # relative to the root data directory\n",
       "task_mode=\"load\"     : enum('load','trigger')       # 'load': load existing results"
      ]
     },
     "execution_count": 26,
     "metadata": {},
     "output_type": "execute_result"
    }
   ],
   "source": [
    "miniscope.ProcessingTask.heading"
   ]
  },
  {
   "attachments": {},
   "cell_type": "markdown",
   "metadata": {},
   "source": [
    "The `ProcessingTask` table contains two important attributes: \n",
    "+ `paramset_id` \n",
    "+ `task_mode` \n",
    "\n",
    "The `paramset_id` attribute tracks\n",
    "your `CaImAn` parameter sets. You can choose the parameter set that should be used for\n",
    "image processing. For example, `paramset_id=0` may contain\n",
    "default parameters for `CaImAn` processing whereas `paramset_id=1` contains your custom\n",
    "parameters for motion correction. This\n",
    "attribute tells the `Processing` table which set of parameters you are processing in a given `populate()`.\n",
    "\n",
    "The `task_mode` attribute can be set to either `load` or `trigger`. When set to `load`,\n",
    "running the processing step initiates a search for existing `CaImAn` output files. When set to `trigger`, the\n",
    "processing step will run `CaImAn` on the raw data. "
   ]
  },
  {
   "cell_type": "code",
   "execution_count": 27,
   "metadata": {},
   "outputs": [],
   "source": [
    "miniscope.ProcessingTask.insert1(\n",
    "    dict(\n",
    "        **session_key,\n",
    "        recording_id=1,\n",
    "        paramset_id=0,\n",
    "        task_mode=\"load\",  # load or trigger\n",
    "        processing_output_dir=\"session1/caiman\",\n",
    "    )\n",
    ")"
   ]
  },
  {
   "cell_type": "code",
   "execution_count": 28,
   "metadata": {},
   "outputs": [
    {
     "name": "stderr",
     "output_type": "stream",
     "text": [
      "Processing:   0%|          | 0/1 [00:00<?, ?it/s]2023-11-29 17:33:06.617370: I external/local_tsl/tsl/cuda/cudart_stub.cc:31] Could not find cuda drivers on your machine, GPU will not be used.\n",
      "2023-11-29 17:33:06.652351: E external/local_xla/xla/stream_executor/cuda/cuda_dnn.cc:9261] Unable to register cuDNN factory: Attempting to register factory for plugin cuDNN when one has already been registered\n",
      "2023-11-29 17:33:06.652396: E external/local_xla/xla/stream_executor/cuda/cuda_fft.cc:607] Unable to register cuFFT factory: Attempting to register factory for plugin cuFFT when one has already been registered\n",
      "2023-11-29 17:33:06.653638: E external/local_xla/xla/stream_executor/cuda/cuda_blas.cc:1515] Unable to register cuBLAS factory: Attempting to register factory for plugin cuBLAS when one has already been registered\n",
      "2023-11-29 17:33:06.660101: I external/local_tsl/tsl/cuda/cudart_stub.cc:31] Could not find cuda drivers on your machine, GPU will not be used.\n",
      "2023-11-29 17:33:06.660693: I tensorflow/core/platform/cpu_feature_guard.cc:182] This TensorFlow binary is optimized to use available CPU instructions in performance-critical operations.\n",
      "To enable the following instructions: AVX2 FMA, in other operations, rebuild TensorFlow with the appropriate compiler flags.\n",
      "2023-11-29 17:33:07.642635: W tensorflow/compiler/tf2tensorrt/utils/py_utils.cc:38] TF-TRT Warning: Could not find TensorRT\n",
      "Processing: 100%|██████████| 1/1 [00:12<00:00, 12.93s/it]\n"
     ]
    }
   ],
   "source": [
    "miniscope.Processing.populate(session_key, display_progress=True)"
   ]
  },
  {
   "attachments": {},
   "cell_type": "markdown",
   "metadata": {},
   "source": [
    "While image processing is completed in the above step, you can optionally curate\n",
    "the output of image processing using the `Curation` table. For this demo, we\n",
    "will simply use the results ingested from the `Processing` task."
   ]
  },
  {
   "cell_type": "code",
   "execution_count": 29,
   "metadata": {},
   "outputs": [
    {
     "data": {
      "text/plain": [
       "# Different rounds of curation performed on the processing results of the data\n",
       "subject              : varchar(8)                   # \n",
       "session_datetime     : datetime                     # \n",
       "recording_id         : int                          # \n",
       "paramset_id          : smallint                     # \n",
       "curation_id          : int                          # \n",
       "---\n",
       "curation_time        : datetime                     # time of generation of these curated results\n",
       "curation_output_dir  : varchar(255)                 # output directory of the curated results,\n",
       "manual_curation      : tinyint                      # has manual curation been performed?\n",
       "curation_note=\"\"     : varchar(2000)                # "
      ]
     },
     "execution_count": 29,
     "metadata": {},
     "output_type": "execute_result"
    }
   ],
   "source": [
    "miniscope.Curation.heading"
   ]
  },
  {
   "cell_type": "code",
   "execution_count": 30,
   "metadata": {},
   "outputs": [],
   "source": [
    "processing_key = (miniscope.ProcessingTask & session_key).fetch1(\"KEY\")\n",
    "miniscope.Curation().create1_from_processing_task(processing_key)"
   ]
  },
  {
   "attachments": {},
   "cell_type": "markdown",
   "metadata": {},
   "source": [
    "Once the `Curation` table receives an entry, we can populate the remaining\n",
    "tables in the workflow including `Segmentation`, `Fluorescence`, and `Activity`. "
   ]
  },
  {
   "cell_type": "code",
   "execution_count": 31,
   "metadata": {},
   "outputs": [
    {
     "name": "stderr",
     "output_type": "stream",
     "text": [
      "MotionCorrection: 100%|██████████| 1/1 [00:05<00:00,  5.64s/it]\n",
      "Segmentation:   0%|          | 0/1 [00:00<?, ?it/s][2023-11-29 17:33:30,377][WARNING]: Could not load all pixel values for at least one mask\n",
      "WARNING:datajoint:Could not load all pixel values for at least one mask\n",
      "Segmentation: 100%|██████████| 1/1 [00:05<00:00,  5.77s/it]\n",
      "Fluorescence: 100%|██████████| 1/1 [00:05<00:00,  5.70s/it]\n",
      "Activity: 100%|██████████| 2/2 [00:10<00:00,  5.37s/it]\n"
     ]
    }
   ],
   "source": [
    "miniscope.MotionCorrection.populate(session_key, display_progress=True)\n",
    "miniscope.Segmentation.populate(session_key, display_progress=True)\n",
    "miniscope.Fluorescence.populate(session_key, display_progress=True)\n",
    "miniscope.Activity.populate(session_key, display_progress=True)"
   ]
  },
  {
   "attachments": {},
   "cell_type": "markdown",
   "metadata": {},
   "source": [
    "Now that we've populated the tables in this workflow, there are one of\n",
    "several next steps. If you have an existing workflow for\n",
    "aligning waveforms to behavior data or other stimuli, you can easily\n",
    "invoke `element-event` or define your custom DataJoint tables to extend the\n",
    "pipeline.\n",
    "\n",
    "### **Visualize the results.**\n",
    "\n",
    "In this tutorial, we will do some exploratory analysis by fetching the data from the database and creating a few plots."
   ]
  },
  {
   "cell_type": "code",
   "execution_count": 32,
   "metadata": {},
   "outputs": [],
   "source": [
    "trace = (miniscope.Fluorescence.Trace & \"mask = '10'\").fetch1(\"fluorescence\")"
   ]
  },
  {
   "attachments": {},
   "cell_type": "markdown",
   "metadata": {},
   "source": [
    "In the query above, we fetch a single fluorescence trace from the `fluorescence`\n",
    "attribute in the `Trace` part table belonging to the `Fluorescence` table.\n",
    "We also restrict the query to mask number 10.\n",
    "\n",
    "Let's go ahead and fetch the sampling rate and plot the trace."
   ]
  },
  {
   "cell_type": "code",
   "execution_count": 33,
   "metadata": {},
   "outputs": [
    {
     "data": {
      "image/png": "[encoded data removed]",
      "text/plain": [
       "<Figure size 640x480 with 1 Axes>"
      ]
     },
     "metadata": {},
     "output_type": "display_data"
    }
   ],
   "source": [
    "sampling_rate = (miniscope.RecordingInfo & session_key).fetch1(\"fps\")\n",
    "\n",
    "plt.plot(np.r_[: trace.size] * 1 / sampling_rate, trace)\n",
    "plt.title(\"Fluorescence trace for mask 10\")\n",
    "plt.xlabel(\"Time (s)\")\n",
    "plt.ylabel(\"Activity (a.u.)\");"
   ]
  },
  {
   "attachments": {},
   "cell_type": "markdown",
   "metadata": {},
   "source": [
    "DataJoint queries are a highly flexible tool to manipulate and visualize your data.\n",
    "After all, visualizing traces or generating rasters is likely just the start of\n",
    "your analysis workflow. This can also make the queries seem more complex at\n",
    "first. However, we'll walk through them slowly to simplify their content in this notebook. \n",
    "\n",
    "The examples below perform several operations using DataJoint queries:\n",
    "- Use **multiple restrictions** to fetch the average image generated during motion correction.\n",
    "- Use a **join** operation and **multiple restrictions** to fetch x and y coordinates of\n",
    "  masks generated during image segmentation."
   ]
  },
  {
   "cell_type": "code",
   "execution_count": 34,
   "metadata": {},
   "outputs": [],
   "source": [
    "average_image = (miniscope.MotionCorrection.Summary & session_key).fetch1(\n",
    "    \"average_image\"\n",
    ")\n",
    "\n",
    "mask_xpix, mask_ypix = (\n",
    "    miniscope.Segmentation.Mask * miniscope.MaskClassification.MaskType\n",
    "    & session_key\n",
    "    & \"mask_npix > 50\"\n",
    ").fetch(\"mask_xpix\", \"mask_ypix\")"
   ]
  },
  {
   "cell_type": "markdown",
   "metadata": {},
   "source": [
    "The mask coordinates can be overlayed with the average image."
   ]
  },
  {
   "cell_type": "code",
   "execution_count": 36,
   "metadata": {},
   "outputs": [],
   "source": [
    "mask_image = np.zeros(np.shape(average_image[0, :, :]), dtype=bool)\n",
    "for xpix, ypix in zip(mask_xpix, mask_ypix):\n",
    "    mask_image[ypix, xpix] = True"
   ]
  },
  {
   "cell_type": "code",
   "execution_count": 38,
   "metadata": {},
   "outputs": [
    {
     "data": {
      "text/plain": [
       "<matplotlib.contour.QuadContourSet at 0x7f8605c27e50>"
      ]
     },
     "execution_count": 38,
     "metadata": {},
     "output_type": "execute_result"
    },
    {
     "data": {
      "image/png": "[encoded data removed]",
      "text/plain": [
       "<Figure size 640x480 with 1 Axes>"
      ]
     },
     "metadata": {},
     "output_type": "display_data"
    }
   ],
   "source": [
    "plt.imshow(average_image[0, :, :])\n",
    "plt.contour(mask_image, colors=\"white\", linewidths=0.5)"
   ]
  },
  {
   "cell_type": "markdown",
   "metadata": {},
   "source": [
    "## Summary\n",
    "\n",
    "Following this tutorial, we have:\n",
    "\n",
    "+ Covered the essential functionality of `element-miniscope`.\n",
    "+ Learned how to manually insert data into tables.\n",
    "+ Executed and ingested results of image processing with `CaImAn`.\n",
    "+ Visualized the results.\n",
    "\n",
    "#### Documentation and DataJoint Tutorials\n",
    "\n",
    "+ [Detailed documentation on\n",
    "  `element-miniscope`.](https://datajoint.com/docs/elements/element-miniscope/)\n",
    "+ [General `datajoint-python`\n",
    "  tutorials.](https://github.com/datajoint/datajoint-tutorials) covering fundamentals,\n",
    "  such as table tiers, query operations, fetch operations, automated computations with the\n",
    "  make function, and more.\n",
    "+ [Documentation for\n",
    "  `datajoint-python`.](https://datajoint.com/docs/core/datajoint-python/)\n",
    "\n",
    "##### Run this tutorial on your own data\n",
    "\n",
    "To run this tutorial notebook on your own data, please use the following steps:\n",
    "+ Download the [mysql-docker image for\n",
    "  DataJoint](https://github.com/datajoint/mysql-docker) and run the container according\n",
    "  to the instructions provide in the repository.\n",
    "+ Create a fork of this repository to your GitHub account.\n",
    "+ Clone the repository and open the files using your IDE.\n",
    "+ Add a code cell immediately after the first code cell in the notebook - we will setup\n",
    "  the local connection using this cell. In this cell, type in the following code. \n",
    "\n",
    "```python\n",
    "import datajoint as dj\n",
    "dj.config[\"database.host\"] = \"localhost\"\n",
    "dj.config[\"database.user\"] = \"<your-username>\"\n",
    "dj.config[\"database.password\"] = \"<your-password>\"\n",
    "dj.config[\"custom\"] = {\"imaging_root_data_dir\": \"path/to/your/data/dir\",\n",
    "\"database_prefix\": \"<your-username_>\"}\n",
    "dj.config.save_local()\n",
    "dj.conn()\n",
    "```\n",
    "\n",
    "+ Run the code block above and proceed with the rest of the notebook."
   ]
  },
  {
   "cell_type": "code",
   "execution_count": null,
   "metadata": {},
   "outputs": [],
   "source": []
  }
 ],
 "metadata": {
  "kernelspec": {
   "display_name": "python3p10",
   "language": "python",
   "name": "python3"
  },
  "language_info": {
   "codemirror_mode": {
    "name": "ipython",
    "version": 3
   },
   "file_extension": ".py",
   "mimetype": "text/x-python",
   "name": "python",
   "nbconvert_exporter": "python",
   "pygments_lexer": "ipython3",
   "version": "3.9.17"
  },
  "orig_nbformat": 4,
  "vscode": {
   "interpreter": {
    "hash": "ff52d424e56dd643d8b2ec122f40a2e279e94970100b4e6430cb9025a65ba4cf"
   }
  }
 },
 "nbformat": 4,
 "nbformat_minor": 2
}
